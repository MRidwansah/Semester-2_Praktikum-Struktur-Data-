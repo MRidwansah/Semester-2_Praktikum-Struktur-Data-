{
  "nbformat": 4,
  "nbformat_minor": 0,
  "metadata": {
    "colab": {
      "provenance": [],
      "authorship_tag": "ABX9TyP7OX/ZIiyTYw37yBarkI5s",
      "include_colab_link": true
    },
    "kernelspec": {
      "name": "python3",
      "display_name": "Python 3"
    },
    "language_info": {
      "name": "python"
    }
  },
  "cells": [
    {
      "cell_type": "markdown",
      "metadata": {
        "id": "view-in-github",
        "colab_type": "text"
      },
      "source": [
        "<a href=\"https://colab.research.google.com/github/MRidwansah/Semester-2_Praktikum-Struktur-Data-/blob/main/Latihan_1_4_dan_Tugas_(Stack)_Struktur_Data.ipynb\" target=\"_parent\"><img src=\"https://colab.research.google.com/assets/colab-badge.svg\" alt=\"Open In Colab\"/></a>"
      ]
    },
    {
      "cell_type": "markdown",
      "source": [
        "7.1.  Push(x) - Menambahkan Elemen ke Stack"
      ],
      "metadata": {
        "id": "l0LXSoex9GA0"
      }
    },
    {
      "cell_type": "code",
      "source": [
        "class Stack:\n",
        "    def __init__(self):\n",
        "        self.stack = []\n",
        "\n",
        "    def push(self, item):\n",
        "        self.stack.append(item)\n",
        "\n",
        "# Contoh penggunaan\n",
        "s = Stack()\n",
        "s.push(5)\n",
        "print(s.stack)  # Output: [5]"
      ],
      "metadata": {
        "colab": {
          "base_uri": "https://localhost:8080/"
        },
        "id": "Oeq4NvFP9QVk",
        "outputId": "12075e69-5c67-4eb2-c5ac-dcb832cd3d65"
      },
      "execution_count": null,
      "outputs": [
        {
          "output_type": "stream",
          "name": "stdout",
          "text": [
            "[5]\n"
          ]
        }
      ]
    },
    {
      "cell_type": "markdown",
      "source": [
        "7.2. Pop() - Menghapus Elemen dari Stack"
      ],
      "metadata": {
        "id": "sfKt_skq-TRc"
      }
    },
    {
      "cell_type": "code",
      "source": [
        "class Stack:\n",
        "    def __init__(self):\n",
        "        self.stack = []\n",
        "\n",
        "    def push(self, item):\n",
        "        self.stack.append(item)\n",
        "\n",
        "    def pop(self):\n",
        "        if len(self.stack) == 0:\n",
        "            return \"Stack Kosong\"\n",
        "        return self.stack.pop()\n",
        "\n",
        "# Contoh Penggunaan\n",
        "s = Stack()\n",
        "s.push(5)\n",
        "s.push(10)\n",
        "print(s.pop())  # Output: 10\n",
        "print(s.stack)  # Output: [5"
      ],
      "metadata": {
        "colab": {
          "base_uri": "https://localhost:8080/"
        },
        "id": "XKS_LxAf-Y1s",
        "outputId": "2d3b1164-9998-45af-f31c-27e59d833706"
      },
      "execution_count": null,
      "outputs": [
        {
          "output_type": "stream",
          "name": "stdout",
          "text": [
            "10\n",
            "[5]\n"
          ]
        }
      ]
    },
    {
      "cell_type": "markdown",
      "source": [
        "7.3. Peek() - Melihat Elemen Teratas Tanpa Menghapusnya"
      ],
      "metadata": {
        "id": "tdSxiawwBCqc"
      }
    },
    {
      "cell_type": "code",
      "source": [
        "class Stack:\n",
        "    def __init__(self):\n",
        "        self.stack = []\n",
        "\n",
        "    def push(self, item):\n",
        "        self.stack.append(item)\n",
        "\n",
        "    def peek(self):\n",
        "        if len(self.stack) == 0:\n",
        "            return \"Stack Kosong\"\n",
        "        return self.stack[-1]\n",
        "\n",
        "# Contoh Penggunaan\n",
        "s = Stack()\n",
        "s.push(5)\n",
        "s.push(10)\n",
        "print(s.peek())  # Output: 10\n",
        "print(s.stack)  # Output: [5, 10]"
      ],
      "metadata": {
        "colab": {
          "base_uri": "https://localhost:8080/"
        },
        "id": "KC8Ra44vBLYl",
        "outputId": "6e25cd4a-5290-40aa-c0ed-8d2a581998e1"
      },
      "execution_count": null,
      "outputs": [
        {
          "output_type": "stream",
          "name": "stdout",
          "text": [
            "10\n",
            "[5, 10]\n"
          ]
        }
      ]
    },
    {
      "cell_type": "markdown",
      "source": [
        "7.4. isEmpty() - Mengecek Apakah Stack Kosong"
      ],
      "metadata": {
        "id": "d5ev1iDNCVJ8"
      }
    },
    {
      "cell_type": "code",
      "source": [
        "class Stack:\n",
        "    def __init__(self):\n",
        "        self.stack = []\n",
        "\n",
        "    def push(self, item):\n",
        "        self.stack.append(item)\n",
        "\n",
        "    def is_empty(self):\n",
        "        return len(self.stack) == 0\n",
        "\n",
        "# Contoh Penggunaan\n",
        "s = Stack()\n",
        "print(s.is_empty())  # Output: True\n",
        "s.push(5)\n",
        "print(s.is_empty())  # Output: False"
      ],
      "metadata": {
        "colab": {
          "base_uri": "https://localhost:8080/"
        },
        "id": "4TgObmNSCcVk",
        "outputId": "4ea0e39b-3b5d-401e-e715-b163349af566"
      },
      "execution_count": null,
      "outputs": [
        {
          "output_type": "stream",
          "name": "stdout",
          "text": [
            "True\n",
            "False\n"
          ]
        }
      ]
    },
    {
      "cell_type": "markdown",
      "source": [
        "C. LANGKAH PRAKTIKUM\n",
        "1. Implementasi Stack dengan List Python - Fitur \"Undo\" dalam Teks Editor (pop())"
      ],
      "metadata": {
        "id": "H-LAllqSD7X0"
      }
    },
    {
      "cell_type": "code",
      "source": [
        "class TextEditor:\n",
        "    def __init__(self):\n",
        "        self.history = []\n",
        "\n",
        "    def write(self, text):\n",
        "        self.history.append(text)\n",
        "\n",
        "    def undo(self):\n",
        "        if self.history:\n",
        "            return f\"Undo: Menghapus '{self.history.pop()}'\"\n",
        "        return \"Tidak ada yang bisa di-undo\"\n",
        "\n",
        "# Contoh Penggunaan\n",
        "editor = TextEditor()\n",
        "editor.write(\"Halo, ini teks pertama.\")\n",
        "editor.write(\"Ini teks kedua.\")\n",
        "editor.write(\"Ini teks ketiga.\")\n",
        "\n",
        "print(editor.undo())\n",
        "print(editor.undo())"
      ],
      "metadata": {
        "colab": {
          "base_uri": "https://localhost:8080/"
        },
        "id": "yp8BqKT0ESl0",
        "outputId": "2f5b764a-9ea5-4410-841c-858cebefbfb5"
      },
      "execution_count": null,
      "outputs": [
        {
          "output_type": "stream",
          "name": "stdout",
          "text": [
            "Undo: Menghapus 'Ini teks ketiga.'\n",
            "Undo: Menghapus 'Ini teks kedua.'\n"
          ]
        }
      ]
    },
    {
      "cell_type": "markdown",
      "source": [
        "Latihan 1 : Buatlah program \"Undo Perintah Kalkulator\",di mana setiap operasi matematika yang dilakukan disimpan dalam Stack. Jika pengguna menekan Undo, operasi terakhir dibatalkan. Gunakan dua digit terakhir NPM sebagai angka awal. Lakukan minimal 3 operasi matematika sebelum menguji fitur Undo."
      ],
      "metadata": {
        "id": "mSNHDaLSF3zN"
      }
    },
    {
      "cell_type": "code",
      "source": [
        "# Class\n",
        "class CalculatorStack:\n",
        "  def __init__(self):\n",
        "    self.last_result = None\n",
        "    self.stack = [\"0\"]\n",
        "\n",
        "  def __iter__(self):\n",
        "    for v in self.stack:\n",
        "      yield v\n",
        "\n",
        "  def __repr__(self):\n",
        "    return str(self.stack)\n",
        "\n",
        "  def push(self, new_data):\n",
        "    try:\n",
        "      if self.last_result is None:\n",
        "        self.stack.append(new_data)\n",
        "        self.last_result = eval(new_data)\n",
        "      else:\n",
        "        self.stack.append(f\"{str(self.last_result)}{new_data}\")\n",
        "        self.last_result = eval(f\"{str(self.last_result)}{new_data}\")\n",
        "    except:\n",
        "      print(\"Kesalahan dalam menginput operasi matematika\")\n",
        "\n",
        "  def undo(self):\n",
        "    if len(self.stack) == 0:\n",
        "      return\n",
        "\n",
        "    self.stack.pop()\n",
        "\n",
        "    if len(self.stack) == 0:\n",
        "      return\n",
        "\n",
        "    self.last_result = eval(self.stack[-1])\n",
        "\n",
        "\n",
        "# Variabel\n",
        "operations_history = CalculatorStack()\n",
        "is_first = True\n",
        "\n",
        "\n",
        "# Program utama\n",
        "print(\"Ketik \\\"stop\\\" untuk menghentikan kalkulator\\n\")\n",
        "\n",
        "while True:\n",
        "  input_text = \"Masukkan operasi matematika:\\n\"\n",
        "\n",
        "  if not is_first:\n",
        "    input_text = f\"Lanjutkan operasi matematika:\\n{operations_history.last_result} \"\n",
        "\n",
        "  user_input = input(input_text).lower()\n",
        "\n",
        "  if user_input == \"stop\":\n",
        "    break\n",
        "  elif user_input == \"undo\":\n",
        "    operations_history.undo()\n",
        "    print(\"\")\n",
        "  else:\n",
        "    operations_history.push(user_input)\n",
        "    print(f\"= {operations_history.last_result}\\n\")\n",
        "  is_first = False"
      ],
      "metadata": {
        "colab": {
          "base_uri": "https://localhost:8080/"
        },
        "id": "_He7HrXnALIr",
        "outputId": "7ad1192d-5f37-4132-eb4a-1985620443ce"
      },
      "execution_count": 3,
      "outputs": [
        {
          "name": "stdout",
          "output_type": "stream",
          "text": [
            "Ketik \"stop\" untuk menghentikan kalkulator\n",
            "\n",
            "Masukkan operasi matematika:\n",
            "79 + 10\n",
            "= 89\n",
            "\n",
            "Lanjutkan operasi matematika:\n",
            "89 - 5\n",
            "= 84\n",
            "\n",
            "Lanjutkan operasi matematika:\n",
            "84 /2\n",
            "= 42.0\n",
            "\n",
            "Lanjutkan operasi matematika:\n",
            "42.0 undo\n",
            "\n",
            "Lanjutkan operasi matematika:\n",
            "84 undo\n",
            "\n",
            "Lanjutkan operasi matematika:\n",
            "89 undo\n",
            "\n",
            "Lanjutkan operasi matematika:\n",
            "0 stop\n"
          ]
        }
      ]
    },
    {
      "cell_type": "markdown",
      "source": [
        "2. Implementasi Stack dengan collections.deque - Navigasi History Browser (push())"
      ],
      "metadata": {
        "id": "9-KAXI5GHFZ8"
      }
    },
    {
      "cell_type": "code",
      "source": [
        "from collections import deque\n",
        "\n",
        "class BrowserHistory:\n",
        "    def __init__(self):\n",
        "        self.history = deque()\n",
        "\n",
        "    def visit (self, url):\n",
        "        self.history.append(url)\n",
        "        print(f\"Mengunjungi: {url}\")\n",
        "\n",
        "    def back(self):\n",
        "        if self.history:\n",
        "            print(f\"Kembali ke: {self.history.pop()}\")\n",
        "        else:\n",
        "            print(\"Tidak ada riwayat!\")\n",
        "\n",
        "# Contoh Penggunaan\n",
        "browser = BrowserHistory()\n",
        "browser.visit(\"google.com\")\n",
        "browser.visit(\"youtube.com\")\n",
        "browser.visit(\"github.com\")\n",
        "\n",
        "browser.back()\n",
        "browser.back()"
      ],
      "metadata": {
        "colab": {
          "base_uri": "https://localhost:8080/"
        },
        "id": "t_AIQmLLHXU8",
        "outputId": "62d0e962-03d1-425e-ab27-73a9840a1ebd"
      },
      "execution_count": null,
      "outputs": [
        {
          "output_type": "stream",
          "name": "stdout",
          "text": [
            "Mengunjungi: google.com\n",
            "Mengunjungi: youtube.com\n",
            "Mengunjungi: github.com\n",
            "Kembali ke: github.com\n",
            "Kembali ke: youtube.com\n"
          ]
        }
      ]
    },
    {
      "cell_type": "markdown",
      "source": [
        "Latihan 2 : Buatlah program \"Navigasi History Aplikasi Mobile\", di mana fitur aplikasi yang dikunjungi disimpan dalam Stack. - Gunakan huruf pertama bulan lahir + dua digit terakhir NPM sebagai nama fitur aplikasi. Simpan minimal 3 fitur sebelum menguji tombol Back."
      ],
      "metadata": {
        "id": "CKThS37sLx0d"
      }
    },
    {
      "cell_type": "code",
      "source": [
        "from collections import deque\n",
        "\n",
        "class HistoryAplikasi:\n",
        "  def __init__(self):\n",
        "    self.history = deque()\n",
        "\n",
        "  def mengunjungi(self, fitur):\n",
        "    self.history.append(fitur)\n",
        "    print(f\"Mengunjungi: {fitur}\")\n",
        "\n",
        "  def kembali(self):\n",
        "    if self.history:\n",
        "      print(f\"Kembali ke: {self.history.pop()}\")\n",
        "    else:\n",
        "      print(\"\\nTidak ada riwayat!\")\n",
        "\n",
        "# Penggunaan\n",
        "app = HistoryAplikasi()\n",
        "app.mengunjungi(\"M79_Beranda\")\n",
        "app.mengunjungi(\"M79_Profil\")\n",
        "app.mengunjungi(\"M79_Pengaturan\")\n",
        "\n",
        "app.kembali()\n",
        "app.kembali()\n",
        "app.kembali()\n",
        "app.kembali()"
      ],
      "metadata": {
        "colab": {
          "base_uri": "https://localhost:8080/"
        },
        "id": "p6qXojgiJDuC",
        "outputId": "b14ee443-3947-4d50-d69a-842fe07709bd"
      },
      "execution_count": 4,
      "outputs": [
        {
          "output_type": "stream",
          "name": "stdout",
          "text": [
            "Mengunjungi: M79_Beranda\n",
            "Mengunjungi: M79_Profil\n",
            "Mengunjungi: M79_Pengaturan\n",
            "Kembali ke: M79_Pengaturan\n",
            "Kembali ke: M79_Profil\n",
            "Kembali ke: M79_Beranda\n",
            "\n",
            "Tidak ada riwayat!\n"
          ]
        }
      ]
    },
    {
      "cell_type": "markdown",
      "source": [
        "3. Implementasi Stack dengan queue.LifoQueue - Sistem Pencadangan File (peek())"
      ],
      "metadata": {
        "id": "8apg26RDMTMk"
      }
    },
    {
      "cell_type": "code",
      "source": [
        "from queue import LifoQueue\n",
        "\n",
        "class BackupSystem:\n",
        "    def __init__(self):\n",
        "        self.backups = LifoQueue()\n",
        "\n",
        "    def backup(self, version):\n",
        "        self.backups.put(version)\n",
        "\n",
        "    def latest_backup(self):\n",
        "        if not self.backups.empty():\n",
        "            return f\"Versi terbaru: {self.backups.queue[-1]}\"\n",
        "        return \"Tidak ada cadangan!\"\n",
        "\n",
        "# Contoh Penggunaan\n",
        "backup_system = BackupSystem()\n",
        "backup_system.backup(\"Backup_1\")\n",
        "backup_system.backup(\"Backup_2\")\n",
        "backup_system.backup(\"Backup_3\")\n",
        "\n",
        "print (backup_system.latest_backup())"
      ],
      "metadata": {
        "colab": {
          "base_uri": "https://localhost:8080/"
        },
        "id": "b0Tn5hEOM_Xc",
        "outputId": "fd602bce-7a18-4cfe-f132-a24f38d310af"
      },
      "execution_count": null,
      "outputs": [
        {
          "output_type": "stream",
          "name": "stdout",
          "text": [
            "Versi terbaru: Backup_3\n"
          ]
        }
      ]
    },
    {
      "cell_type": "markdown",
      "source": [
        "Latihan 3: Buatlah program \"Sistem Penyimpanan Draft Email\", di mana email yang belum dikirim disimpan dalam Stack. Gunakan dua huruf pertama nama mahasiswa + dua digit terakhir NPM sebagai subjek email. Simpan minimal 3 draft email sebelum menguji fitur \"Lihat Draft Terakhir\"."
      ],
      "metadata": {
        "id": "gfZUSzibTRrM"
      }
    },
    {
      "cell_type": "code",
      "source": [
        "from queue import LifoQueue\n",
        "\n",
        "class EmailDraftStack:\n",
        "    def __init__(self):\n",
        "        self.drafts = LifoQueue()\n",
        "\n",
        "    def save_draft(self, subject, body):\n",
        "        self.drafts.put((subject, body))\n",
        "        print(f\"Draft email '{subject}' disimpan.\")\n",
        "\n",
        "    def view_latest_draft(self):\n",
        "        if not self.drafts.empty():\n",
        "            subject, body = self.drafts.queue[-1]\n",
        "            print(\"\\nDraft Terakhir:\")\n",
        "            print(f\"Subjek:Muhamad Ridwansah {subject}\")\n",
        "            print(f\"Isi: Punyaa Piaa >3 {body}\")\n",
        "        else:\n",
        "            print(\"Tidak ada draft email.\")\n",
        "\n",
        "# penggunaan\n",
        "email = EmailDraftStack()\n",
        "email.save_draft(\"MU79_Draft1\", \"Draft email 1.\")\n",
        "email.save_draft(\"MU79_Draft2\", \"Draft email 2.\")\n",
        "email.save_draft(\"MU79_Draft3\", \"Draft email 3.\")\n",
        "\n",
        "email.view_latest_draft()"
      ],
      "metadata": {
        "colab": {
          "base_uri": "https://localhost:8080/"
        },
        "id": "EJFmpIMtLWTM",
        "outputId": "e3610366-5188-4423-a2ac-51d0fe2e1f22"
      },
      "execution_count": 9,
      "outputs": [
        {
          "output_type": "stream",
          "name": "stdout",
          "text": [
            "Draft email 'MU79_Draft1' disimpan.\n",
            "Draft email 'MU79_Draft2' disimpan.\n",
            "Draft email 'MU79_Draft3' disimpan.\n",
            "\n",
            "Draft Terakhir:\n",
            "Subjek:Muhamad Ridwansah MU79_Draft3\n",
            "Isi: Punyaa Piaa >3 Draft email 3.\n"
          ]
        }
      ]
    },
    {
      "cell_type": "markdown",
      "source": [
        "4. Implementasi Stack dengan OOP - Manajemen Antrian Pelanggan (isEmpty())"
      ],
      "metadata": {
        "id": "K1f7HsqmT3EN"
      }
    },
    {
      "cell_type": "code",
      "source": [
        "class CustomerService:\n",
        "    def __init__(self):\n",
        "        self.tickets = []\n",
        "\n",
        "    def add_ticket(self, ticket):\n",
        "        self.tickets.append(ticket)\n",
        "\n",
        "    def process_ticket(self):\n",
        "        if not self.is_empty():\n",
        "            return f\"Memproses tiket: {self.tickets.pop()}\"\n",
        "        return \"Tidak ada tiket yang harus diproses.\"\n",
        "\n",
        "    def is_empty(self):\n",
        "        return len(self.tickets) == 0\n",
        "\n",
        "# Contoh Penggunaan\n",
        "service = CustomerService()\n",
        "service.add_ticket(\"Tiket 001\")\n",
        "service.add_ticket(\"Tiket 002\")\n",
        "\n",
        "print(service.process_ticket())\n",
        "print(service.is_empty())"
      ],
      "metadata": {
        "colab": {
          "base_uri": "https://localhost:8080/"
        },
        "id": "w0egScBrUIzM",
        "outputId": "ea82f159-7c80-4824-b8df-c1e79dbbae3a"
      },
      "execution_count": null,
      "outputs": [
        {
          "output_type": "stream",
          "name": "stdout",
          "text": [
            "Memproses tiket: Tiket 002\n",
            "False\n"
          ]
        }
      ]
    },
    {
      "cell_type": "markdown",
      "source": [
        "Latihan 4 : Buatlah program \"Sistem Antrean Tiket Bioskop\", di mana pelanggan membeli tiket film dan antrean disimpan dalam Stack. Gunakan huruf pertama bulan lahir + dua digit terakhir NPM sebagai nama film. Beli minimal 3 tiket sebelum menguji sistem pemrosesan tiket."
      ],
      "metadata": {
        "id": "nrRF-Xd4VrrM"
      }
    },
    {
      "cell_type": "code",
      "source": [
        "class AntreanTiket:\n",
        "    def __init__(self):\n",
        "        self.stack = []\n",
        "\n",
        "    def beli_tiket(self, film):\n",
        "        self.stack.append(film)\n",
        "        print(f\"Tiket untuk film {film} telah dibeli.\")\n",
        "\n",
        "    def proses_tiket(self):\n",
        "        if self.stack:\n",
        "            film = self.stack.pop()\n",
        "            print(f\"Memproses tiket untuk film: {film}\")\n",
        "        else:\n",
        "            print(\"Tidak ada tiket dalam antrean.\")\n",
        "\n",
        "# Gunakan huruf pertama bulan lahir + dua digit terakhir NPM sebagai nama film\n",
        "film1 = \"M79-Action Ultraman 3\"\n",
        "film2 = \"M79-Drama Jepang\"\n",
        "film3 = \"M79-SciFi\"\n",
        "\n",
        "antrean = AntreanTiket()\n",
        "\n",
        "# Beli minimal 3 tiket\n",
        "antrean.beli_tiket(film1)\n",
        "antrean.beli_tiket(film2)\n",
        "antrean.beli_tiket(film3)\n",
        "\n",
        "# Uji sistem pemrosesan tiket\n",
        "antrean.proses_tiket()\n",
        "antrean.proses_tiket()"
      ],
      "metadata": {
        "colab": {
          "base_uri": "https://localhost:8080/"
        },
        "id": "FyEBnbdvWWFt",
        "outputId": "e8ebbaee-ef61-43f6-a32c-4321631233eb"
      },
      "execution_count": 13,
      "outputs": [
        {
          "output_type": "stream",
          "name": "stdout",
          "text": [
            "Tiket untuk film M79-Action Ultraman 3 telah dibeli.\n",
            "Tiket untuk film M79-Drama Jepang telah dibeli.\n",
            "Tiket untuk film M79-SciFi telah dibeli.\n",
            "Memproses tiket untuk film: M79-SciFi\n",
            "Memproses tiket untuk film: M79-Drama Jepang\n"
          ]
        }
      ]
    },
    {
      "cell_type": "markdown",
      "source": [
        "TUGAS : Membuat game sederhana menggunakan Stack"
      ],
      "metadata": {
        "id": "RwOAXmlUWWgM"
      }
    },
    {
      "cell_type": "code",
      "source": [
        "class GudangStack:\n",
        "    def __init__(self, kapasitas):\n",
        "        self.kapasitas = 79 # Maksimal barang berdasarkan 2 digit terakhir NPM\n",
        "        self.stack = []  # Menyimpan daftar barang\n",
        "\n",
        "    def push(self, barang):\n",
        "        \"\"\"Menambahkan barang ke gudang\"\"\"\n",
        "        if len(self.stack) < self.kapasitas:\n",
        "            self.stack.append(barang)\n",
        "            print(f\"{barang} ditambahkan ke gudang.\")\n",
        "        else:\n",
        "            print(\"Gudang penuh! Tidak bisa menambahkan barang lagi.\")\n",
        "\n",
        "    def pop(self):\n",
        "        \"\"\"Mengambil barang terakhir yang masuk\"\"\"\n",
        "        if self.stack:\n",
        "            barang = self.stack.pop()\n",
        "            print(f\"{barang} diambil dari gudang.\")\n",
        "        else:\n",
        "            print(\"Gudang kosong! Tidak ada barang untuk diambil.\")\n",
        "\n",
        "    def lihat_gudang(self):\n",
        "        \"\"\"Menampilkan daftar barang dalam gudang\"\"\"\n",
        "        if self.stack:\n",
        "            print(\"\\n📦 Barang dalam gudang (LIFO):\")\n",
        "            for barang in reversed(self.stack):\n",
        "                print(f\"- {barang}\")\n",
        "        else:\n",
        "            print(\"\\n🏭 Gudang kosong!\")\n",
        "\n",
        "npm_akhir = 79\n",
        "gudang = GudangStack(npm_akhir)\n",
        "\n",
        "# Simulasi\n",
        "gudang.push(\"M79-Komputer\")\n",
        "gudang.push(\"M79-Meja\")\n",
        "gudang.push(\"M79-Kursi\")\n",
        "gudang.lihat_gudang()\n",
        "\n",
        "gudang.pop()\n",
        "gudang.lihat_gudang()"
      ],
      "metadata": {
        "colab": {
          "base_uri": "https://localhost:8080/"
        },
        "id": "a9J36Bksba_V",
        "outputId": "74acb254-3c1b-4f67-cb87-8bd3caeb3bff"
      },
      "execution_count": 23,
      "outputs": [
        {
          "output_type": "stream",
          "name": "stdout",
          "text": [
            "M79-Komputer ditambahkan ke gudang.\n",
            "M79-Meja ditambahkan ke gudang.\n",
            "M79-Kursi ditambahkan ke gudang.\n",
            "\n",
            "📦 Barang dalam gudang (LIFO):\n",
            "- M79-Kursi\n",
            "- M79-Meja\n",
            "- M79-Komputer\n",
            "M79-Kursi diambil dari gudang.\n",
            "\n",
            "📦 Barang dalam gudang (LIFO):\n",
            "- M79-Meja\n",
            "- M79-Komputer\n"
          ]
        }
      ]
    }
  ]
}