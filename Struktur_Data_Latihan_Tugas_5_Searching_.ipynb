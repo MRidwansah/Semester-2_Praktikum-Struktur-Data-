{
  "nbformat": 4,
  "nbformat_minor": 0,
  "metadata": {
    "colab": {
      "provenance": [],
      "authorship_tag": "ABX9TyOLb4U5cGhV/ZKGHROVhRTS",
      "include_colab_link": true
    },
    "kernelspec": {
      "name": "python3",
      "display_name": "Python 3"
    },
    "language_info": {
      "name": "python"
    }
  },
  "cells": [
    {
      "cell_type": "markdown",
      "metadata": {
        "id": "view-in-github",
        "colab_type": "text"
      },
      "source": [
        "<a href=\"https://colab.research.google.com/github/MRidwansah/Semester-2_Praktikum-Struktur-Data-/blob/main/Struktur_Data_Latihan_Tugas_5_Searching_.ipynb\" target=\"_parent\"><img src=\"https://colab.research.google.com/assets/colab-badge.svg\" alt=\"Open In Colab\"/></a>"
      ]
    },
    {
      "cell_type": "markdown",
      "source": [
        "C. LANGKAH PRAKTIKUM"
      ],
      "metadata": {
        "id": "J1s1zqhzNAfT"
      }
    },
    {
      "cell_type": "markdown",
      "source": [
        "1. Implementasi Linear Search"
      ],
      "metadata": {
        "id": "0a08geFvNGNq"
      }
    },
    {
      "cell_type": "code",
      "source": [
        "def linear_search(arr, target):\n",
        "    for i in range(len(arr)):\n",
        "        if arr[i] == target:\n",
        "            return i\n",
        "    return -1\n",
        "\n",
        "# Gantilah dengan angka acak dan NPM Anda (NPM saya: 2440506079)\n",
        "arr = [12, 45, 78, 23, 56, 89, 34, 67, 90, 79]\n",
        "target = int(input(\"Masukkan 3 digit terakhir NPM Anda: \"))\n",
        "\n",
        "result = linear_search(arr, target)\n",
        "\n",
        "if result != -1:\n",
        "    print(f\"Elemen ditemukan pada indeks {result}\")\n",
        "else:\n",
        "    print(\"Elemen tidak ditemukan\")"
      ],
      "metadata": {
        "colab": {
          "base_uri": "https://localhost:8080/"
        },
        "id": "NoNJyzsQPQdi",
        "outputId": "f5cda37d-3b45-4afc-9eb0-d89c3f76076b"
      },
      "execution_count": null,
      "outputs": [
        {
          "output_type": "stream",
          "name": "stdout",
          "text": [
            "Masukkan 3 digit terakhir NPM Anda: 079\n",
            "Elemen ditemukan pada indeks 9\n"
          ]
        }
      ]
    },
    {
      "cell_type": "markdown",
      "source": [
        "2. Implementasi Binary Search"
      ],
      "metadata": {
        "id": "PmmJ1gXEPq-L"
      }
    },
    {
      "cell_type": "code",
      "source": [
        "def binary_search(arr, target):\n",
        "    low = 0\n",
        "    high = len(arr) - 1\n",
        "\n",
        "    while low <= high:\n",
        "        mid = (low + high) // 2\n",
        "        if arr[mid] == target:\n",
        "            return mid\n",
        "        elif arr[mid] < target:\n",
        "            low = mid + 1\n",
        "        else:\n",
        "            high = mid - 1\n",
        "\n",
        "    return -1\n",
        "\n",
        "# Gantilah dengan angka terurut dan tanggal lahir Anda (DDMM) (tanggal lahir saya: 28 Mei)\n",
        "arr = [1920, 2021, 2122, 2223, 2425, 2509, 2611, 2728]\n",
        "target = int(input(\"Masukkan tanggal lahir Anda (DDMM): \"))\n",
        "\n",
        "result = binary_search(arr, target)\n",
        "\n",
        "if result != -1:\n",
        "    print(f\"Elemen ditemukan pada indeks {result}\")\n",
        "else:\n",
        "    print(\"Elemen tidak ditemukan\")\n"
      ],
      "metadata": {
        "colab": {
          "base_uri": "https://localhost:8080/"
        },
        "id": "_gBdoYIfPvPC",
        "outputId": "a1e3baca-8c4c-43d1-f53c-7e263988a735"
      },
      "execution_count": null,
      "outputs": [
        {
          "output_type": "stream",
          "name": "stdout",
          "text": [
            "Masukkan tanggal lahir Anda (DDMM): 2728\n",
            "Elemen ditemukan pada indeks 7\n"
          ]
        }
      ]
    },
    {
      "cell_type": "markdown",
      "source": [
        "3. Implementasi Jump Search"
      ],
      "metadata": {
        "id": "pP_lRGrKRLPL"
      }
    },
    {
      "cell_type": "code",
      "source": [
        "import math\n",
        "\n",
        "def jump_search(arr, target):\n",
        "    n = len(arr)\n",
        "    step = int(math.sqrt(n))\n",
        "    prev = 0\n",
        "\n",
        "    while arr[min(step, n) - 1] < target:\n",
        "        prev = step\n",
        "        step += int(math.sqrt(n))\n",
        "        if prev >= n:\n",
        "            return -1\n",
        "\n",
        "    for i in range(prev, min(step, n)):\n",
        "        if arr[i] == target:\n",
        "            return i\n",
        "    return -1\n",
        "\n",
        "# Gantilah dengan daftar nama teman-teman Anda dalam urutan alfabet\n",
        "arr = [\"Abi\", \"Bayamaru\", \"Cantika\", \"Deaa\", \"Mila\", \"Ridwan\", \"Satrio\", \"Ultraman\"]\n",
        "target = input(\"Masukkan inisial nama Anda: \")\n",
        "\n",
        "result = jump_search(arr, target)\n",
        "\n",
        "if result != -1:\n",
        "    print(f\"Elemen ditemukan pada indeks {result}\")\n",
        "else:\n",
        "    print(\"Elemen tidak ditemukan\")"
      ],
      "metadata": {
        "colab": {
          "base_uri": "https://localhost:8080/"
        },
        "id": "Gyg-4vimRPEc",
        "outputId": "ed8d40eb-4fe2-485a-cfe9-21dc8b14f672"
      },
      "execution_count": null,
      "outputs": [
        {
          "output_type": "stream",
          "name": "stdout",
          "text": [
            "Masukkan inisial nama Anda: Mila\n",
            "Elemen ditemukan pada indeks 4\n"
          ]
        }
      ]
    },
    {
      "cell_type": "markdown",
      "source": [
        "D. LATIHAN / TUGAS"
      ],
      "metadata": {
        "id": "TgGKHJiWVRwt"
      }
    },
    {
      "cell_type": "code",
      "source": [
        "import random\n",
        "import math\n",
        "\n",
        "def generate_sorted_list():\n",
        "    sorted_list = sorted(random.sample(range(1, 1001), 100))\n",
        "    print(\"Generated Sorted Array:\", sorted_list)\n",
        "    return sorted_list\n",
        "\n",
        "def linear_search(arr, target):\n",
        "    comparisons = 0\n",
        "    for i in range(len(arr)):\n",
        "        comparisons += 1\n",
        "        if arr[i] == target:\n",
        "            return i, comparisons\n",
        "    return -1, comparisons\n",
        "\n",
        "def binary_search(arr, target):\n",
        "    low, high = 0, len(arr) - 1\n",
        "    comparisons = 0\n",
        "\n",
        "    while low <= high:\n",
        "        mid = (low + high) // 2\n",
        "        comparisons += 1\n",
        "        if arr[mid] == target:\n",
        "            return mid, comparisons\n",
        "        elif arr[mid] < target:\n",
        "            low = mid + 1\n",
        "        else:\n",
        "            high = mid - 1\n",
        "\n",
        "    return -1, comparisons\n",
        "\n",
        "def jump_search(arr, target):\n",
        "    n = len(arr)\n",
        "    step = int(math.sqrt(n))\n",
        "    prev = 0\n",
        "    comparisons = 0\n",
        "\n",
        "    while prev < n and arr[min(step, n) - 1] < target:\n",
        "        comparisons += 1\n",
        "        prev = step\n",
        "        step += int(math.sqrt(n))\n",
        "        if prev >= n:\n",
        "            return -1, comparisons\n",
        "\n",
        "    for i in range(prev, min(step, n)):\n",
        "        comparisons += 1\n",
        "        if arr[i] == target:\n",
        "            return i, comparisons\n",
        "\n",
        "    return -1, comparisons\n",
        "\n",
        "\n",
        "data = generate_sorted_list()\n",
        "\n",
        "target = random.choice(data)\n",
        "\n",
        "\n",
        "lin_idx, lin_comp = linear_search(data, target)\n",
        "bin_idx, bin_comp = binary_search(data, target)\n",
        "jump_idx, jump_comp = jump_search(data, target)\n",
        "\n",
        "# Print results\n",
        "print(\"Target:\", target)\n",
        "print(\"Linear Search -> Index:\", lin_idx, \"Comparisons:\", lin_comp)\n",
        "print(\"Binary Search -> Index:\", bin_idx, \"Comparisons:\", bin_comp)\n",
        "print(\"Jump Search -> Index:\", jump_idx, \"Comparisons:\", jump_comp)"
      ],
      "metadata": {
        "colab": {
          "base_uri": "https://localhost:8080/"
        },
        "id": "BAhCOiQTJzJn",
        "outputId": "64cf49c6-24d5-404d-eefc-ea1771b6be4c"
      },
      "execution_count": 50,
      "outputs": [
        {
          "output_type": "stream",
          "name": "stdout",
          "text": [
            "Generated Sorted Array: [2, 14, 21, 29, 34, 45, 67, 92, 94, 111, 118, 138, 181, 187, 200, 204, 208, 226, 234, 240, 274, 303, 309, 366, 371, 393, 415, 421, 435, 443, 446, 458, 470, 472, 478, 489, 495, 496, 498, 502, 505, 512, 517, 518, 524, 525, 526, 582, 589, 597, 603, 608, 613, 629, 642, 652, 660, 665, 677, 679, 689, 697, 701, 714, 719, 727, 729, 734, 742, 749, 761, 783, 792, 796, 807, 817, 827, 831, 841, 844, 845, 854, 868, 873, 876, 877, 882, 885, 886, 887, 891, 904, 914, 915, 934, 963, 966, 967, 968, 980]\n",
            "Target: 393\n",
            "Linear Search -> Index: 25 Comparisons: 26\n",
            "Binary Search -> Index: 25 Comparisons: 6\n",
            "Jump Search -> Index: 25 Comparisons: 8\n"
          ]
        }
      ]
    }
  ]
}