{
  "nbformat": 4,
  "nbformat_minor": 0,
  "metadata": {
    "colab": {
      "provenance": [],
      "authorship_tag": "ABX9TyO0QI+Qgy6qf8KPYNfB5YpD",
      "include_colab_link": true
    },
    "kernelspec": {
      "name": "python3",
      "display_name": "Python 3"
    },
    "language_info": {
      "name": "python"
    }
  },
  "cells": [
    {
      "cell_type": "markdown",
      "metadata": {
        "id": "view-in-github",
        "colab_type": "text"
      },
      "source": [
        "<a href=\"https://colab.research.google.com/github/MRidwansah/Semester-2_Praktikum-Struktur-Data-/blob/main/Struktur_Data_Latihan_Tugas_4_Sorting.ipynb\" target=\"_parent\"><img src=\"https://colab.research.google.com/assets/colab-badge.svg\" alt=\"Open In Colab\"/></a>"
      ]
    },
    {
      "cell_type": "markdown",
      "source": [
        "C. LANGKAH PRAKTIKUM\n"
      ],
      "metadata": {
        "id": "5SWVEUxLMT7f"
      }
    },
    {
      "cell_type": "markdown",
      "source": [
        "1. IMPLEMENTASI BUBBLE SORT"
      ],
      "metadata": {
        "id": "Cto6egjHMabG"
      }
    },
    {
      "cell_type": "code",
      "source": [
        "def bubble_sort(arr):\n",
        "    n = len(arr)\n",
        "    for i in range(n - 1):\n",
        "        for j in range(n - i - 1):\n",
        "            if arr[j] > arr[j + 1]:\n",
        "                arr[j], arr[j + 1] = arr[j + 1], arr[j]\n",
        "    return arr\n",
        "\n",
        "# Contoh penggunaan\n",
        "data = [64, 34, 25, 12, 22, 11, 90]\n",
        "sorted_data = bubble_sort(data.copy())  # Menggunakan copy agar data asli tidak berubah\n",
        "print(\"Data sebelum sorting:\", data)\n",
        "print(\"Data setelah Bubble Sort:\", sorted_data)"
      ],
      "metadata": {
        "colab": {
          "base_uri": "https://localhost:8080/"
        },
        "id": "kiGgAALwMksm",
        "outputId": "aca874a1-8ba3-4558-ad7b-c6e149c011f5"
      },
      "execution_count": null,
      "outputs": [
        {
          "output_type": "stream",
          "name": "stdout",
          "text": [
            "Data sebelum sorting: [64, 34, 25, 12, 22, 11, 90]\n",
            "Data setelah Bubble Sort: [11, 12, 22, 25, 34, 64, 90]\n"
          ]
        }
      ]
    },
    {
      "cell_type": "markdown",
      "source": [
        "2. IMPLEMENTASI SELECTION SORT"
      ],
      "metadata": {
        "id": "47dEl2NYNIzX"
      }
    },
    {
      "cell_type": "code",
      "source": [
        "def selection_sort(arr):\n",
        "    n = len(arr)\n",
        "    for i in range(n - 1):\n",
        "        min_index = i\n",
        "        for j in range(i + 1, n):\n",
        "            if arr[j] < arr[min_index]:\n",
        "                min_index = j\n",
        "        arr[i], arr[min_index] = arr[min_index], arr[i]\n",
        "    return arr\n",
        "\n",
        "# Contoh penggunaan\n",
        "data = [64, 25, 12, 22, 11]\n",
        "sorted_data = selection_sort(data.copy())\n",
        "print(\"Data sebelum sorting:\", data)\n",
        "print(\"Data setelah Selection Sort:\", sorted_data)"
      ],
      "metadata": {
        "colab": {
          "base_uri": "https://localhost:8080/"
        },
        "id": "iisdwMegNPoG",
        "outputId": "4e8de98c-4822-4b31-fdd4-eea3ff5db5c4"
      },
      "execution_count": null,
      "outputs": [
        {
          "output_type": "stream",
          "name": "stdout",
          "text": [
            "Data sebelum sorting: [64, 25, 12, 22, 11]\n",
            "Data setelah Selection Sort: [11, 12, 22, 25, 64]\n"
          ]
        }
      ]
    },
    {
      "cell_type": "markdown",
      "source": [
        "3. IMPLEMENTASI INSERTION SORT"
      ],
      "metadata": {
        "id": "5LEaPXiuNrsx"
      }
    },
    {
      "cell_type": "code",
      "source": [
        "def insertion_sort(arr):\n",
        "    n = len(arr)\n",
        "    for i in range(1, n):\n",
        "        key = arr[i]\n",
        "        j = i - 1\n",
        "        while j >= 0 and arr[j] > key:\n",
        "            arr[j + 1] = arr[j]\n",
        "            j -= 1\n",
        "        arr[j + 1] = key\n",
        "    return arr\n",
        "\n",
        "# Contoh penggunaan\n",
        "data = [64, 34, 25, 12, 22, 11, 90]\n",
        "sorted_data = insertion_sort(data.copy())\n",
        "print(\"Data sebelum sorting:\", data)\n",
        "print(\"Data setelah Insertion Sort:\", sorted_data)"
      ],
      "metadata": {
        "colab": {
          "base_uri": "https://localhost:8080/"
        },
        "id": "X-VqcjRxNzw-",
        "outputId": "24c27ed1-5dfc-4cfb-e966-16e868c6c167"
      },
      "execution_count": null,
      "outputs": [
        {
          "output_type": "stream",
          "name": "stdout",
          "text": [
            "Data sebelum sorting: [64, 34, 25, 12, 22, 11, 90]\n",
            "Data setelah Insertion Sort: [11, 12, 22, 25, 34, 64, 90]\n"
          ]
        }
      ]
    },
    {
      "cell_type": "markdown",
      "source": [
        "4. IMPLEMENTASI MERGE SORT"
      ],
      "metadata": {
        "id": "XadjOqdNN6V-"
      }
    },
    {
      "cell_type": "code",
      "source": [
        "def merge_sort(arr):\n",
        "    if len(arr) > 1:\n",
        "        mid = len(arr) // 2\n",
        "        left_half = arr[:mid]\n",
        "        right_half = arr[mid:]\n",
        "\n",
        "        merge_sort(left_half)\n",
        "        merge_sort(right_half)\n",
        "\n",
        "        i = j = k = 0\n",
        "\n",
        "        while i < len(left_half) and j < len(right_half):\n",
        "            if left_half[i] < right_half[j]:\n",
        "                arr[k] = left_half[i]\n",
        "                i += 1\n",
        "            else:\n",
        "                arr[k] = right_half[j]\n",
        "                j += 1\n",
        "            k += 1\n",
        "\n",
        "        while i < len(left_half):\n",
        "            arr[k] = left_half[i]\n",
        "            i += 1\n",
        "            k += 1\n",
        "\n",
        "        while j < len(right_half):\n",
        "            arr[k] = right_half[j]\n",
        "            j += 1\n",
        "            k += 1\n",
        "\n",
        "    return arr\n",
        "\n",
        "# Contoh penggunaan\n",
        "data = [64, 25, 12, 22, 11]\n",
        "sorted_data = merge_sort(data.copy())\n",
        "print(\"Data sebelum sorting:\", data)\n",
        "print(\"Data setelah Merge Sort:\", sorted_data)"
      ],
      "metadata": {
        "colab": {
          "base_uri": "https://localhost:8080/"
        },
        "id": "BYLNxDmvOXU2",
        "outputId": "1016d7be-a67d-4f34-995d-a180a2cf82c8"
      },
      "execution_count": null,
      "outputs": [
        {
          "output_type": "stream",
          "name": "stdout",
          "text": [
            "Data sebelum sorting: [64, 25, 12, 22, 11]\n",
            "Data setelah Merge Sort: [11, 12, 22, 25, 64]\n"
          ]
        }
      ]
    },
    {
      "cell_type": "markdown",
      "source": [
        "5. IMPLEMENTASI QUICK SORT"
      ],
      "metadata": {
        "id": "5YSJwiNuO879"
      }
    },
    {
      "cell_type": "code",
      "source": [
        "def quick_sort(arr):\n",
        "    if len(arr) <= 1:\n",
        "        return arr\n",
        "\n",
        "    pivot = arr[len(arr) // 2]\n",
        "    left = [x for x in arr if x < pivot]\n",
        "    middle = [x for x in arr if x == pivot]\n",
        "    right = [x for x in arr if x > pivot]\n",
        "\n",
        "    return quick_sort(left) + middle + quick_sort(right)\n",
        "\n",
        "# Contoh penggunaan\n",
        "data = [64, 25, 12, 22, 11]\n",
        "sorted_data = quick_sort(data.copy())\n",
        "print(\"Data sebelum sorting:\", data)\n",
        "print(\"Data setelah Quick Sort:\", sorted_data)"
      ],
      "metadata": {
        "colab": {
          "base_uri": "https://localhost:8080/"
        },
        "id": "6oSIDgMPPCzk",
        "outputId": "a0a5a24f-c63e-4637-ede0-fa954aa0c549"
      },
      "execution_count": null,
      "outputs": [
        {
          "output_type": "stream",
          "name": "stdout",
          "text": [
            "Data sebelum sorting: [64, 25, 12, 22, 11]\n",
            "Data setelah Quick Sort: [11, 12, 22, 25, 64]\n"
          ]
        }
      ]
    },
    {
      "cell_type": "markdown",
      "source": [
        "D. LATIHAN / TUGAS"
      ],
      "metadata": {
        "id": "FugUBbhNPpeV"
      }
    },
    {
      "cell_type": "code",
      "source": [
        "def rekomendasi_media(media_list, kriteria=\"rating\"):\n",
        "    return sorted(media_list, key=lambda x: x[kriteria], reverse=True)\n",
        "\n",
        "\n",
        "media = [\n",
        "    {\"Netflix\": \"Ultraman Tiga\", \"rating\": 5.8, \"play_count\": 5000},\n",
        "    {\"Netflix\": \"Waktu Maghrib\", \"rating\": 5.5, \"play_count\": 8000},\n",
        "    {\"Netflix\": \"Marvel Spider-Man\", \"rating\": 5.9, \"play_count\": 3000},\n",
        "]\n",
        "\n",
        "\n",
        "kriteria_pilihan = \"rating\"\n",
        "\n",
        "hasil = rekomendasi_media(media, kriteria_pilihan)\n",
        "for item in hasil:\n",
        "    print(f\"{item['Netflix']} - {kriteria_pilihan}: {item[kriteria_pilihan]}\")"
      ],
      "metadata": {
        "id": "ZBYmGOWxPtYk",
        "colab": {
          "base_uri": "https://localhost:8080/"
        },
        "outputId": "0b078677-8f36-40c5-8429-7ffa7bc72a2e"
      },
      "execution_count": 1,
      "outputs": [
        {
          "output_type": "stream",
          "name": "stdout",
          "text": [
            "Marvel Spider-Man - rating: 5.9\n",
            "Ultraman Tiga - rating: 5.8\n",
            "Waktu Maghrib - rating: 5.5\n"
          ]
        }
      ]
    }
  ]
}