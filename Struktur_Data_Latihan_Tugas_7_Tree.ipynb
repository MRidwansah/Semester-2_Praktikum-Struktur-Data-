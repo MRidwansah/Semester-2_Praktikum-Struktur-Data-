{
  "nbformat": 4,
  "nbformat_minor": 0,
  "metadata": {
    "colab": {
      "provenance": [],
      "authorship_tag": "ABX9TyP+CLtdTaKtDpESDfVn+0Ts"
    },
    "kernelspec": {
      "name": "python3",
      "display_name": "Python 3"
    },
    "language_info": {
      "name": "python"
    }
  },
  "cells": [
    {
      "cell_type": "markdown",
      "source": [
        "LANGKAH PRAKTIKUM"
      ],
      "metadata": {
        "id": "s6nuHkpJf4C1"
      }
    },
    {
      "cell_type": "markdown",
      "source": [
        "1. Membuat Binary Tree Secara Manual"
      ],
      "metadata": {
        "id": "EZerfg4jgLo8"
      }
    },
    {
      "cell_type": "code",
      "source": [
        "class Node:\n",
        "    def __init__(self, data):\n",
        "        self.data = data\n",
        "        self.left = None\n",
        "        self.right = None\n",
        "\n",
        "# Membuat tree secara manual\n",
        "root = Node(1)\n",
        "root.left = Node(2)\n",
        "root.right = Node(3)\n",
        "root.left.left = Node(4)\n",
        "root.left.right = Node(5)\n",
        "\n",
        "# Fungsi inorder traversal\n",
        "def inorder(node):\n",
        "    if node:\n",
        "        inorder(node.left)\n",
        "        print(node.data, end=' ')\n",
        "        inorder(node.right)\n",
        "\n",
        "print(\"Hasil inorder traversal dari binary tree:\")\n",
        "inorder(root)"
      ],
      "metadata": {
        "colab": {
          "base_uri": "https://localhost:8080/"
        },
        "id": "L-i-u0ieqIj1",
        "outputId": "4c69a08f-cd4a-44b1-817f-30401a8adb4e"
      },
      "execution_count": null,
      "outputs": [
        {
          "output_type": "stream",
          "name": "stdout",
          "text": [
            "Hasil inorder traversal dari binary tree:\n",
            "4 2 5 1 3 "
          ]
        }
      ]
    },
    {
      "cell_type": "markdown",
      "source": [
        "2. Membuat Binary Search Tree"
      ],
      "metadata": {
        "id": "LPv1fKvchzZ8"
      }
    },
    {
      "cell_type": "code",
      "source": [
        "class Node:\n",
        "    def __init__(self, data):\n",
        "        self.data = data\n",
        "        self.left = None\n",
        "        self.right = None\n",
        "\n",
        "class BinarySearchTree:\n",
        "    def __init__(self):\n",
        "        self.root = None\n",
        "    def insert(self, root, data):\n",
        "        if root is None:\n",
        "            return Node(data)\n",
        "        if data < root.data:\n",
        "            root.left = self.insert(root.left, data)\n",
        "        else:\n",
        "            root.right = self.insert(root.right, data)\n",
        "        return root\n",
        "\n",
        "bst = BinarySearchTree()\n",
        "root = None\n",
        "data_list = [ 50, 30, 70, 20, 40, 60, 80]\n",
        "for value in data_list:\n",
        "    root = bst.insert(root, value)\n",
        "\n",
        "print(\"Hasil binary Search Tree:\")\n",
        "inorder(root)"
      ],
      "metadata": {
        "colab": {
          "base_uri": "https://localhost:8080/"
        },
        "id": "xPSAAPTQioXE",
        "outputId": "9cbac356-f4dc-491b-f9ed-9fad88fa7cd0"
      },
      "execution_count": null,
      "outputs": [
        {
          "output_type": "stream",
          "name": "stdout",
          "text": [
            "Hasil binary Search Tree:\n",
            "20 30 40 50 60 70 80 "
          ]
        }
      ]
    },
    {
      "cell_type": "markdown",
      "source": [
        "3. Traversal pada BST"
      ],
      "metadata": {
        "id": "RY1l2cF6j4Ks"
      }
    },
    {
      "cell_type": "code",
      "source": [
        "def inorder(node):\n",
        "    if node:\n",
        "        inorder(node.left)\n",
        "        print(node.data, end=' ')\n",
        "        inorder(node.right)\n",
        "\n",
        "def preorder(node):\n",
        "    if node:\n",
        "        print(node.data, end=' ')\n",
        "        preorder(node.left)\n",
        "        preorder(node.right)\n",
        "\n",
        "def postorder(node):\n",
        "    if node:\n",
        "        postorder(node.left)\n",
        "        postorder(node.right)\n",
        "        print(node.data, end=' ')\n",
        "\n",
        "print(\"Inorder Traversal:\")\n",
        "inorder(root)\n",
        "print(\"\\nPreorder Traversal:\")\n",
        "preorder(root)\n",
        "print(\"\\nPostorder traversal:\")\n",
        "postorder(root)"
      ],
      "metadata": {
        "colab": {
          "base_uri": "https://localhost:8080/"
        },
        "id": "Ryp-uTlrkuWc",
        "outputId": "8ab555b1-bcdc-4489-deea-cd22ca2d9d1f"
      },
      "execution_count": null,
      "outputs": [
        {
          "output_type": "stream",
          "name": "stdout",
          "text": [
            "Inorder Traversal:\n",
            "20 30 40 50 60 70 80 \n",
            "Preorder Traversal:\n",
            "50 30 20 40 70 60 80 \n",
            "Postorder traversal:\n",
            "20 40 30 60 80 70 50 "
          ]
        }
      ]
    },
    {
      "cell_type": "markdown",
      "source": [
        "4. Pencarian Nilai dalam BST"
      ],
      "metadata": {
        "id": "nFmIOum1lRd8"
      }
    },
    {
      "cell_type": "code",
      "source": [
        "def search(node, key):\n",
        "    if node is None or node.data == key:\n",
        "        return node\n",
        "    if key < node.data:\n",
        "        return search(node.left, key)\n",
        "    return search(node.right, key)\n",
        "\n",
        "# Uji pencarian\n",
        "key = 60\n",
        "result = search(root, key)\n",
        "if result:\n",
        "    print(f\"{key} ditemukan dalam tree.\")\n",
        "else:\n",
        "    print(f\"{key} tidak ditemukan.\")\n",
        "\n",
        "key = 25\n",
        "result = search(root, key)\n",
        "if result:\n",
        "    print(f\"{key} ditemukan dalam tree.\")\n",
        "else:\n",
        "    print(f\"{key} tidak ditemukan\")"
      ],
      "metadata": {
        "colab": {
          "base_uri": "https://localhost:8080/"
        },
        "id": "pKwp4Kj1lVIj",
        "outputId": "6e723b51-6baa-4706-f59f-e78beaf4fdde"
      },
      "execution_count": null,
      "outputs": [
        {
          "output_type": "stream",
          "name": "stdout",
          "text": [
            "60 ditemukan dalam tree.\n",
            "25 tidak ditemukan\n"
          ]
        }
      ]
    },
    {
      "cell_type": "markdown",
      "source": [
        "Tugas 1: Program Struktur Binary Tree Manual"
      ],
      "metadata": {
        "id": "Qlkoxaq4nE2M"
      }
    },
    {
      "cell_type": "code",
      "source": [
        "# Membuat kelas\n",
        "class Node:\n",
        "  def __init__(self, data):\n",
        "    self.data = data\n",
        "    self.left = None\n",
        "    self.right = None\n",
        "\n",
        "# Membuat root secara manual\n",
        "root = Node(16)\n",
        "root.left = Node(6)\n",
        "root.right = Node(79)\n",
        "root.left.left = Node(28)\n",
        "root.right.right = Node(5)\n",
        "\n",
        "# Menampilkan dengan inorder traversal\n",
        "def inorder(node):\n",
        "  if node:\n",
        "    inorder(node.left)\n",
        "    print(node.data, end= ' ')\n",
        "    inorder(node.right)\n",
        "\n",
        "print(\"Hasil Inorder Traversal : \")\n",
        "inorder(root)"
      ],
      "metadata": {
        "colab": {
          "base_uri": "https://localhost:8080/"
        },
        "id": "nzeanb7LjNWD",
        "outputId": "ed314916-ae6f-4093-939a-2e58d2cbe48a"
      },
      "execution_count": 1,
      "outputs": [
        {
          "output_type": "stream",
          "name": "stdout",
          "text": [
            "Hasil Inorder Traversal : \n",
            "28 6 16 79 5 "
          ]
        }
      ]
    },
    {
      "cell_type": "markdown",
      "source": [
        "Tugas 2: Program Binary Search Tree (BST)"
      ],
      "metadata": {
        "id": "pWezIttiqyfs"
      }
    },
    {
      "cell_type": "code",
      "source": [
        "# Membuat kelas\n",
        "class Node:\n",
        "  def __init__(self, data):\n",
        "    self.data = data\n",
        "    self.left = None\n",
        "    self.right = None\n",
        "\n",
        "class BinarySearchTree:\n",
        "  def __init__(self):\n",
        "    self.root = None\n",
        "  def insert(self, root, data):\n",
        "    if root is None:\n",
        "      return Node(data)\n",
        "    if data < root.data:\n",
        "      root.left = self.insert(root.left, data)\n",
        "    else:\n",
        "      root.right = self.insert(root.right, data)\n",
        "    return root\n",
        "\n",
        "# Menentukan data yang akan dimasukkan dalam tree\n",
        "BST = BinarySearchTree()\n",
        "root = None\n",
        "Data_list = [79,28,5,77,117,3,7]\n",
        "for value in Data_list:\n",
        "  root = BST.insert(root, value)\n",
        "\n",
        "# Traversal\n",
        "# Metode Inorder\n",
        "def inorder(node):\n",
        "  if node:\n",
        "    inorder(node.left)\n",
        "    print(node.data, end=' ')\n",
        "    inorder(node.right)\n",
        "\n",
        "# Metode Preorder\n",
        "def preorder(node):\n",
        "  if node:\n",
        "    print(node.data, end=' ')\n",
        "    preorder(node.left)\n",
        "    preorder(node.right)\n",
        "\n",
        "# Metode Postorder\n",
        "def postorder(node):\n",
        "  if node:\n",
        "    postorder(node.left)\n",
        "    postorder(node.right)\n",
        "    print(node.data, end=' ')\n",
        "\n",
        "print(\"--HASIL TRAVERSAL--\")\n",
        "print(\"Inorder Traversal: \")\n",
        "inorder(root)\n",
        "print(\"\\nPreorder Traversal: \")\n",
        "preorder(root)\n",
        "print(\"\\nPostorder Traversal: \")\n",
        "postorder(root)\n",
        "\n",
        "# Pencarian nilai\n",
        "def search(node, key):\n",
        "  if node is None or node.data == key:\n",
        "    return node\n",
        "  if key < node.data:\n",
        "    return search(node.left, key)\n",
        "  return search(node.right, key)\n",
        "\n",
        "# Menentukan key\n",
        "print()\n",
        "print(\"\\n--HASIL PENCARIAN--\")\n",
        "\n",
        "key = 79\n",
        "result = search(root, key)\n",
        "if result:\n",
        "  print(f\"{key} ditemukan dalam tree.\")\n",
        "else:\n",
        "  print(f\"{key} tidak ditemukan.\")\n",
        "\n",
        "key = 20\n",
        "result = search(root, key)\n",
        "if result:\n",
        "  print(f\"{key} ditemukan dalam tree.\")\n",
        "else:\n",
        "  print(f\"{key} tidak ditemukan.\")"
      ],
      "metadata": {
        "id": "oHFW3mEVq8Ys",
        "colab": {
          "base_uri": "https://localhost:8080/"
        },
        "outputId": "7e26596d-e3c7-4069-8b3a-f65d1531178b"
      },
      "execution_count": 2,
      "outputs": [
        {
          "output_type": "stream",
          "name": "stdout",
          "text": [
            "--HASIL TRAVERSAL--\n",
            "Inorder Traversal: \n",
            "3 5 7 28 77 79 117 \n",
            "Preorder Traversal: \n",
            "79 28 5 3 7 77 117 \n",
            "Postorder Traversal: \n",
            "3 7 5 77 28 117 79 \n",
            "\n",
            "--HASIL PENCARIAN--\n",
            "79 ditemukan dalam tree.\n",
            "20 tidak ditemukan.\n"
          ]
        }
      ]
    }
  ]
}