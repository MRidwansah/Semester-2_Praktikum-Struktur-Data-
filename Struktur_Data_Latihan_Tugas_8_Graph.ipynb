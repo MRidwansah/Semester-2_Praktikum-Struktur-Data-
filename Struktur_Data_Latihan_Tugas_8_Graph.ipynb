{
  "nbformat": 4,
  "nbformat_minor": 0,
  "metadata": {
    "colab": {
      "provenance": [],
      "authorship_tag": "ABX9TyNxPbYVk5w6uZOAJYSCdWlr"
    },
    "kernelspec": {
      "name": "python3",
      "display_name": "Python 3"
    },
    "language_info": {
      "name": "python"
    }
  },
  "cells": [
    {
      "cell_type": "markdown",
      "source": [
        "C. LANGKAH PRAKTIKUM"
      ],
      "metadata": {
        "id": "alMO2AfIfc7p"
      }
    },
    {
      "cell_type": "markdown",
      "source": [
        "1. Representasi Graf dengan Adjacency List"
      ],
      "metadata": {
        "id": "ikFYn5OkfijZ"
      }
    },
    {
      "cell_type": "code",
      "source": [
        "# Membuat graf tak berarah menggunakan adjacency list\n",
        "graph = {\n",
        "    'A': ['B', 'C'],\n",
        "    'B': ['A', 'D', 'E'],\n",
        "    'C': ['A', 'F'],\n",
        "    'D': ['B'],\n",
        "    'E': ['B', 'F'],\n",
        "    'F': ['C', 'E']\n",
        "}\n",
        "\n",
        "# Menampilkan graf\n",
        "def print_graph(graf):\n",
        "    for node in graf:\n",
        "        print(f\"{node} -> {graf [node]}\")\n",
        "\n",
        "print_graph(graph)"
      ],
      "metadata": {
        "colab": {
          "base_uri": "https://localhost:8080/"
        },
        "id": "awvRT-4Nf8Tp",
        "outputId": "1604c44b-9304-4e8b-84b9-f6864f5bf950"
      },
      "execution_count": null,
      "outputs": [
        {
          "output_type": "stream",
          "name": "stdout",
          "text": [
            "A -> ['B', 'C']\n",
            "B -> ['A', 'D', 'E']\n",
            "C -> ['A', 'F']\n",
            "D -> ['B']\n",
            "E -> ['B', 'F']\n",
            "F -> ['C', 'E']\n"
          ]
        }
      ]
    },
    {
      "cell_type": "markdown",
      "source": [
        "2. Traversal Graf menggunakan BFS"
      ],
      "metadata": {
        "id": "IFYYaGZjhVRp"
      }
    },
    {
      "cell_type": "code",
      "source": [
        "from collections import deque\n",
        "\n",
        "def bfs(graph, start):\n",
        "    visited = set ()\n",
        "    queue = deque ([start])\n",
        "\n",
        "    while queue:\n",
        "        vertex = queue.popleft ()\n",
        "        if vertex not in visited:\n",
        "            print (vertex, end=\" \")\n",
        "            visited.add (vertex)\n",
        "            queue.extend ([neighbor for neighbor in graph[vertex] if neighbor not in visited])\n",
        "\n",
        "# Contoh pemanggilan\n",
        "bfs(graph, 'A')"
      ],
      "metadata": {
        "colab": {
          "base_uri": "https://localhost:8080/"
        },
        "id": "JIHCBSquhbhC",
        "outputId": "afe52c79-976a-4bfa-f4c8-1fb545c3e5a9"
      },
      "execution_count": null,
      "outputs": [
        {
          "output_type": "stream",
          "name": "stdout",
          "text": [
            "A B C D E F "
          ]
        }
      ]
    },
    {
      "cell_type": "markdown",
      "source": [
        "3. Traversal Graf menggunakan DFS"
      ],
      "metadata": {
        "id": "7sQUBnx4jxMh"
      }
    },
    {
      "cell_type": "code",
      "source": [
        "def dfs(graph, start, visited=None):\n",
        "    if visited is None:\n",
        "        visited = set()\n",
        "\n",
        "    if start not in visited:\n",
        "        print(start, end=\" \")\n",
        "        visited.add(start)\n",
        "        for neighbor in graph[start]:\n",
        "            dfs(graph, neighbor, visited)\n",
        "\n",
        "# Contoh pemanggilan\n",
        "dfs(graph, 'A')"
      ],
      "metadata": {
        "colab": {
          "base_uri": "https://localhost:8080/"
        },
        "id": "R993WgKIj-Wx",
        "outputId": "62d8a7fb-de5c-4053-88b6-94200401a8fe"
      },
      "execution_count": null,
      "outputs": [
        {
          "output_type": "stream",
          "name": "stdout",
          "text": [
            "A B D E F C "
          ]
        }
      ]
    },
    {
      "cell_type": "markdown",
      "source": [
        "4. Latihan Personal"
      ],
      "metadata": {
        "id": "4JTTLapukdmB"
      }
    },
    {
      "cell_type": "code",
      "source": [
        "# Lengkapi fungsi untuk menghitung jumlah tetangga dari tiap simpul dalam graf\n",
        "def count_neighbors(graph):\n",
        "    result = {}\n",
        "    for node in graph:\n",
        "        # TODO: Hitung jumlah tetangga\n",
        "        result[node] = len(graph[node])\n",
        "    return result\n",
        "\n",
        "# Contoh pemanggilan\n",
        "neighbor_counts = count_neighbors(graph)\n",
        "print(\"\\n\\nJumlah tetangga per simpul:\")\n",
        "for node, count in neighbor_counts.items():\n",
        "    print(f\"Simpul {node}: {count} tetangga\")"
      ],
      "metadata": {
        "colab": {
          "base_uri": "https://localhost:8080/"
        },
        "id": "tdDNUsYQl9UZ",
        "outputId": "66c0af53-b755-4249-8530-535c59fb6308"
      },
      "execution_count": null,
      "outputs": [
        {
          "output_type": "stream",
          "name": "stdout",
          "text": [
            "\n",
            "\n",
            "Jumlah tetangga per simpul:\n",
            "Simpul A: 2 tetangga\n",
            "Simpul B: 3 tetangga\n",
            "Simpul C: 2 tetangga\n",
            "Simpul D: 1 tetangga\n",
            "Simpul E: 2 tetangga\n",
            "Simpul F: 2 tetangga\n"
          ]
        }
      ]
    },
    {
      "cell_type": "markdown",
      "source": [
        "D. LATIHAN / TUGAS"
      ],
      "metadata": {
        "id": "qi1yhjC4n5ly"
      }
    },
    {
      "cell_type": "code",
      "source": [
        "# 1. Membuat graf tak berarah dan fungsi print_graph\n",
        "def create_graph():\n",
        "    \"\"\"Membuat graf tak berarah dengan 5 simpul dan 7 sisi\"\"\"\n",
        "    graph = {\n",
        "    'A': ['B', 'C'],\n",
        "    'B': ['A', 'D', 'E'],\n",
        "    'C': ['A', 'F'],\n",
        "    'D': ['B'],\n",
        "    'E': ['B', 'F'],\n",
        "    'F': ['C', 'E']\n",
        "    }\n",
        "    return graph\n",
        "# Fungsi print_graph\n",
        "def print_graph(graf):\n",
        "    for node in graf:\n",
        "        print(f\"{node} -> {graf[node]}\")\n",
        "\n",
        "print_graph(create_graph())"
      ],
      "metadata": {
        "id": "SRRp3NJ-n6WJ",
        "colab": {
          "base_uri": "https://localhost:8080/"
        },
        "outputId": "0ae8014b-509f-4ed8-940e-98e41a845ed0"
      },
      "execution_count": 26,
      "outputs": [
        {
          "output_type": "stream",
          "name": "stdout",
          "text": [
            "A -> ['B', 'C']\n",
            "B -> ['A', 'D', 'E']\n",
            "C -> ['A', 'F']\n",
            "D -> ['B']\n",
            "E -> ['B', 'F']\n",
            "F -> ['C', 'E']\n"
          ]
        }
      ]
    },
    {
      "cell_type": "code",
      "source": [
        "#2 Implementasikan BFS dan DFS dari simpul awal pilihan anda\n",
        "\n",
        "# Modul\n",
        "from collections import deque\n",
        "\n",
        "# Variabel\n",
        "test_graph = {\n",
        "    'A': ['B', 'C'],\n",
        "    'B': ['A', 'D', 'E'],\n",
        "    'C': ['A', 'F'],\n",
        "    'D': ['B'],\n",
        "    'E': ['B', 'F'],\n",
        "    'F': ['C', 'E']\n",
        "}\n",
        "\n",
        "# Fungsi\n",
        "def bfs(graph, start):\n",
        "  visited = set()\n",
        "  queue = deque([start])\n",
        "\n",
        "  while queue:\n",
        "    vertex = queue.popleft()\n",
        "    if vertex not in visited:\n",
        "      print(vertex, end=\" \")\n",
        "      visited.add(vertex)\n",
        "      queue.extend([neighbor for neighbor in graph[vertex] if neighbor not in visited])\n",
        "\n",
        "def dfs(graph, start, visited=None):\n",
        "  if visited is None:\n",
        "    visited = set()\n",
        "\n",
        "  if start not in visited:\n",
        "    print(start, end=\" \")\n",
        "    visited.add(start)\n",
        "    for neighbor in graph[start]:\n",
        "      dfs(graph, neighbor, visited)\n",
        "\n",
        "# Program Utama\n",
        "print(\"BFS:\")\n",
        "print(bfs(test_graph, \"A\"))\n",
        "print(\"\\nDFS:\")\n",
        "print(dfs(test_graph, \"A\"))"
      ],
      "metadata": {
        "colab": {
          "base_uri": "https://localhost:8080/"
        },
        "id": "AGKT2SY2JIYd",
        "outputId": "072db936-8a1d-42b5-9eb4-c5e2d5395171"
      },
      "execution_count": 27,
      "outputs": [
        {
          "output_type": "stream",
          "name": "stdout",
          "text": [
            "BFS:\n",
            "A B C D E F None\n",
            "\n",
            "DFS:\n",
            "A B D E F C None\n"
          ]
        }
      ]
    },
    {
      "cell_type": "code",
      "source": [
        "# 3. Modifikasi BFS untuk mengembalikan list urutan kunjungan\n",
        "# Modul\n",
        "from collections import deque\n",
        "\n",
        "\n",
        "# Variabel\n",
        "test_graph = {\n",
        "    'A': ['B', 'C'],\n",
        "    'B': ['A', 'D', 'E'],\n",
        "    'C': ['A', 'F'],\n",
        "    'D': ['B'],\n",
        "    'E': ['B', 'F'],\n",
        "    'F': ['C', 'E']\n",
        "}\n",
        "\n",
        "\n",
        "# Fungsi\n",
        "def bfs(graph, start):\n",
        "  visit = []\n",
        "  visited = set()\n",
        "  queue = deque([start])\n",
        "\n",
        "  while queue:\n",
        "    vertex = queue.popleft()\n",
        "    if vertex not in visited:\n",
        "      print(vertex, end=\" \")\n",
        "      visit.append(vertex)\n",
        "      visited.add(vertex)\n",
        "      queue.extend([neighbor for neighbor in graph[vertex] if neighbor not in visited])\n",
        "\n",
        "  return visit\n",
        "\n",
        "\n",
        "# Program Utama\n",
        "print(\"BFS:\")\n",
        "print(f\"\\n\\nUrutan:\\n{bfs(test_graph, 'A')}\")"
      ],
      "metadata": {
        "colab": {
          "base_uri": "https://localhost:8080/"
        },
        "id": "-fGcm-KfpgrC",
        "outputId": "0b84cee8-fb85-4a42-89e7-5b4ce110b8ba"
      },
      "execution_count": 6,
      "outputs": [
        {
          "output_type": "stream",
          "name": "stdout",
          "text": [
            "BFS:\n",
            "A B C D E F \n",
            "\n",
            "Urutan:\n",
            "['A', 'B', 'C', 'D', 'E', 'F']\n"
          ]
        }
      ]
    },
    {
      "cell_type": "code",
      "source": [
        "# 4. Fungsi untuk mencari jalur dari start ke end menggunakan DFS\n",
        "def find_path(graph, start, end, visited=None, path=None):\n",
        "    if visited is None:\n",
        "        visited = set()\n",
        "    if path is None:\n",
        "        path = []\n",
        "\n",
        "    visited.add(start)\n",
        "    path.append(start)\n",
        "\n",
        "    if start == end:\n",
        "        return path\n",
        "\n",
        "    for neighbor in graph[start]:\n",
        "        if neighbor not in visited:\n",
        "            result = find_path(graph, neighbor, end, visited, path)\n",
        "            if result:\n",
        "                return result\n",
        "\n",
        "print(\"Jalur dari A ke D:\")\n",
        "find_path(test_graph, 'A', 'D')"
      ],
      "metadata": {
        "colab": {
          "base_uri": "https://localhost:8080/"
        },
        "id": "Q45Xf8P-raa-",
        "outputId": "ab4c269b-256e-4e4f-ba4c-b0ccb6af0dc9"
      },
      "execution_count": 11,
      "outputs": [
        {
          "output_type": "stream",
          "name": "stdout",
          "text": [
            "Jalur dari A ke D:\n"
          ]
        },
        {
          "output_type": "execute_result",
          "data": {
            "text/plain": [
              "['A', 'B', 'D']"
            ]
          },
          "metadata": {},
          "execution_count": 11
        }
      ]
    },
    {
      "cell_type": "code",
      "source": [
        "# 5. Fungsi untuk mengecek konektivitas graf\n",
        "def dfs(graph, start, visited=None):\n",
        "    if visited is None:\n",
        "        visited = set()\n",
        "\n",
        "    if start not in visited:\n",
        "        visited.add(start)\n",
        "        for neighbor in graph[start]:\n",
        "            dfs(graph, neighbor, visited)\n",
        "\n",
        "    return visited\n",
        "\n",
        "def is_connected(graph):\n",
        "    # Ambil simpul awal secara acak\n",
        "    start_node = next(iter(graph))\n",
        "    visited = dfs(graph, start_node)\n",
        "\n",
        "    # Cek apakah semua simpul sudah dikunjungi\n",
        "    return len(visited) == len(graph)\n",
        "\n",
        "is_connected(test_graph)"
      ],
      "metadata": {
        "colab": {
          "base_uri": "https://localhost:8080/"
        },
        "id": "eHmEpvx9uZA7",
        "outputId": "b56c2b06-2927-4791-e521-7f77f7d5920e"
      },
      "execution_count": 14,
      "outputs": [
        {
          "output_type": "execute_result",
          "data": {
            "text/plain": [
              "True"
            ]
          },
          "metadata": {},
          "execution_count": 14
        }
      ]
    }
  ]
}