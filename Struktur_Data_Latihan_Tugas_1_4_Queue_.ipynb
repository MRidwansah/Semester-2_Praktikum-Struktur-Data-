{
  "nbformat": 4,
  "nbformat_minor": 0,
  "metadata": {
    "colab": {
      "provenance": [],
      "authorship_tag": "ABX9TyNzAPH0oSR0g0r0aiEXLL2C",
      "include_colab_link": true
    },
    "kernelspec": {
      "name": "python3",
      "display_name": "Python 3"
    },
    "language_info": {
      "name": "python"
    }
  },
  "cells": [
    {
      "cell_type": "markdown",
      "metadata": {
        "id": "view-in-github",
        "colab_type": "text"
      },
      "source": [
        "<a href=\"https://colab.research.google.com/github/MRidwansah/Semester-2_Praktikum-Struktur-Data-/blob/main/Struktur_Data_Latihan_Tugas_1_4_Queue_.ipynb\" target=\"_parent\"><img src=\"https://colab.research.google.com/assets/colab-badge.svg\" alt=\"Open In Colab\"/></a>"
      ]
    },
    {
      "cell_type": "markdown",
      "source": [
        "C. LATIHAN PRAKTIKUM"
      ],
      "metadata": {
        "id": "wZ3Z0g-MEl3B"
      }
    },
    {
      "cell_type": "markdown",
      "source": [
        "1. Implementasi queue dengan List"
      ],
      "metadata": {
        "id": "Bceot0LZE6M_"
      }
    },
    {
      "cell_type": "code",
      "source": [
        "# Implementasi Queue menggunakan List\n",
        "class QueueList:\n",
        "    def __init__(self):\n",
        "        self.queue = []\n",
        "\n",
        "    def enqueue(self, item):\n",
        "        self.queue.append(item)\n",
        "\n",
        "    def dequeue(self):\n",
        "        if not self.is_empty():\n",
        "            return self.queue.pop(0)\n",
        "        return None\n",
        "\n",
        "    def front(self):\n",
        "        return self.queue[0] if not self.is_empty() else None\n",
        "\n",
        "    def rear(self):\n",
        "        return self.queue[-1] if not self.is_empty() else None\n",
        "\n",
        "    def is_empty(self):\n",
        "        return len(self.queue) == 0\n",
        "\n",
        "    def size(self):\n",
        "        return len(self.queue)\n",
        "\n",
        "# Contoh penggunaan\n",
        "queue = QueueList()\n",
        "queue.enqueue(10)\n",
        "queue.enqueue(20)\n",
        "queue.enqueue(30)\n",
        "print(\"Queue setelah enqueue:\", queue.queue)\n",
        "print(\"Dequeued element:\", queue.dequeue())\n",
        "print(\"Front element:\", queue.front())\n",
        "print(\"Rear element:\", queue.rear())\n",
        "print(\"Queue size:\", queue.size())\n"
      ],
      "metadata": {
        "colab": {
          "base_uri": "https://localhost:8080/"
        },
        "id": "9zfr94EYE2WX",
        "outputId": "d7851e4f-5c08-4089-e3f3-28f5cb7bfedf"
      },
      "execution_count": null,
      "outputs": [
        {
          "output_type": "stream",
          "name": "stdout",
          "text": [
            "Queue setelah enqueue: [10, 20, 30]\n",
            "Dequeued element: 10\n",
            "Front element: 20\n",
            "Rear element: 30\n",
            "Queue size: 2\n"
          ]
        }
      ]
    },
    {
      "cell_type": "markdown",
      "source": [
        "2. Implementasi Queue dengan collections.deque"
      ],
      "metadata": {
        "id": "cP9U7y8mGG8A"
      }
    },
    {
      "cell_type": "code",
      "source": [
        "from collections import deque\n",
        "\n",
        "# Implementasi Queue menggunakan deque\n",
        "class QueueDeque:\n",
        "    def __init__(self):\n",
        "        self.queue = deque()\n",
        "\n",
        "    def enqueue(self, item):\n",
        "        self.queue.append(item)\n",
        "\n",
        "    def dequeue(self):\n",
        "        return self.queue.popleft() if not self.is_empty() else None\n",
        "\n",
        "    def front(self):\n",
        "        return self.queue[0] if not self.is_empty() else None\n",
        "\n",
        "    def rear(self):\n",
        "        return self.queue[-1] if not self.is_empty() else None\n",
        "\n",
        "    def is_empty(self):\n",
        "        return len(self.queue) == 0\n",
        "\n",
        "    def size(self):\n",
        "        return len(self.queue)\n",
        "\n",
        "# Contoh penggunaan\n",
        "queue = QueueDeque()\n",
        "queue.enqueue(10)\n",
        "queue.enqueue(20)\n",
        "queue.enqueue(30)\n",
        "print(\"Queue setelah enqueue:\", list(queue.queue))\n",
        "print(\"Dequeued element:\", queue.dequeue())\n",
        "print(\"Front element:\", queue.front())\n",
        "print(\"Rear element:\", queue.rear())\n",
        "print(\"Queue size:\", queue.size())\n"
      ],
      "metadata": {
        "colab": {
          "base_uri": "https://localhost:8080/"
        },
        "id": "7qUJpuVqGOtv",
        "outputId": "f4da3107-c2da-415a-f459-184ee06cc0c3"
      },
      "execution_count": null,
      "outputs": [
        {
          "output_type": "stream",
          "name": "stdout",
          "text": [
            "Queue setelah enqueue: [10, 20, 30]\n",
            "Dequeued element: 10\n",
            "Front element: 20\n",
            "Rear element: 30\n",
            "Queue size: 2\n"
          ]
        }
      ]
    },
    {
      "cell_type": "markdown",
      "source": [
        "3. Implementasi Queue dengan queue.Queue"
      ],
      "metadata": {
        "id": "562Fapg1Gwqg"
      }
    },
    {
      "cell_type": "code",
      "source": [
        "from queue import Queue\n",
        "\n",
        "# Implementasi Queue menggunakan queue.Queue\n",
        "queue = Queue()\n",
        "\n",
        "queue.put(10)\n",
        "queue.put(20)\n",
        "queue.put(30)\n",
        "\n",
        "print(\"Queue size:\", queue.qsize())\n",
        "print(\"Dequeued element:\", queue.get())\n",
        "print(\"Queue size setelah dequeue:\", queue.qsize())\n"
      ],
      "metadata": {
        "colab": {
          "base_uri": "https://localhost:8080/"
        },
        "id": "99U22eX3G58g",
        "outputId": "95db7fb6-d2d4-475e-c125-df47c48e61bc"
      },
      "execution_count": null,
      "outputs": [
        {
          "output_type": "stream",
          "name": "stdout",
          "text": [
            "Queue size: 3\n",
            "Dequeued element: 10\n",
            "Queue size setelah dequeue: 2\n"
          ]
        }
      ]
    },
    {
      "cell_type": "markdown",
      "source": [
        "4. Implementasi Queue dengan Linked List"
      ],
      "metadata": {
        "id": "JAZMrxr9HtFA"
      }
    },
    {
      "cell_type": "code",
      "source": [
        "class Node:\n",
        "    def __init__(self, data):\n",
        "        self.data = data\n",
        "        self.next = None\n",
        "\n",
        "class QueueLinkedList:\n",
        "    def __init__(self):\n",
        "        self.front = self.rear = None\n",
        "\n",
        "    def enqueue(self, data):\n",
        "        new_node = Node(data)\n",
        "        if self.rear is None:\n",
        "            self.front = self.rear = new_node\n",
        "            return\n",
        "        self.rear.next = new_node\n",
        "        self.rear = new_node\n",
        "\n",
        "    def dequeue(self):\n",
        "        if self.front is None:\n",
        "            return None\n",
        "        dequeued_element = self.front.data\n",
        "        self.front = self.front.next\n",
        "        if self.front is None:\n",
        "            self.rear = None\n",
        "        return dequeued_element\n",
        "\n",
        "    def is_empty(self):\n",
        "        return self.front is None\n",
        "\n",
        "    def front_element(self):\n",
        "        return self.front.data if self.front else None\n",
        "\n",
        "    def rear_element(self):\n",
        "        return self.rear.data if self.rear else None\n",
        "\n",
        "# Contoh penggunaan\n",
        "queue = QueueLinkedList()\n",
        "queue.enqueue(10)\n",
        "queue.enqueue(20)\n",
        "queue.enqueue(30)\n",
        "\n",
        "print(\"Dequeued element:\", queue.dequeue())\n",
        "print(\"Front element:\", queue.front_element())\n",
        "print(\"Rear element:\", queue.rear_element())\n"
      ],
      "metadata": {
        "colab": {
          "base_uri": "https://localhost:8080/"
        },
        "id": "49NDcfMGHTLP",
        "outputId": "0f00cde9-7656-4e57-e249-43fab0adc960"
      },
      "execution_count": null,
      "outputs": [
        {
          "output_type": "stream",
          "name": "stdout",
          "text": [
            "Dequeued element: 10\n",
            "Front element: 20\n",
            "Rear element: 30\n"
          ]
        }
      ]
    },
    {
      "cell_type": "markdown",
      "source": [
        "D. LATIHAN/TUGAS"
      ],
      "metadata": {
        "id": "THYt-BEcII1R"
      }
    },
    {
      "cell_type": "markdown",
      "source": [
        "SOAL LATIHAN 1 : Antrian Pemesanan Tiket Bioskop"
      ],
      "metadata": {
        "id": "xam0EQfNIN4f"
      }
    },
    {
      "cell_type": "code",
      "source": [
        "class TicketQueue:\n",
        "    def __init__(self, capacity=10):\n",
        "        self.queue = []\n",
        "        self.capacity = capacity\n",
        "\n",
        "    def enqueue(self, ticket_id):\n",
        "        if len(self.queue) >= self.capacity:\n",
        "            print(\"Antrian penuh! Harap tunggu sampai ada slot kosong.\")\n",
        "            return\n",
        "        if '7' in ticket_id:\n",
        "            self.queue.insert(0, ticket_id)\n",
        "            print(f\"VIP Customer {ticket_id} langsung mendapatkan kursi!\")\n",
        "        else:\n",
        "            self.queue.append(ticket_id)\n",
        "            print(f\"Pelanggan {ticket_id} ditambahkan ke dalam antrian.\")\n",
        "\n",
        "    def dequeue(self):\n",
        "        if self.is_empty():\n",
        "            print(\"Antrian kosong! Tidak ada pelanggan yang bisa dilayani.\")\n",
        "            return None\n",
        "        served_customer = self.queue.pop(0)\n",
        "        print(f\"Pelanggan {served_customer} telah dilayani.\")\n",
        "        return served_customer\n",
        "\n",
        "    def front(self):\n",
        "        if self.is_empty():\n",
        "            return \"Antrian kosong\"\n",
        "        return self.queue[0]\n",
        "\n",
        "    def rear(self):\n",
        "        if self.is_empty():\n",
        "            return \"Antrian kosong\"\n",
        "        return self.queue[-1]\n",
        "\n",
        "    def is_empty(self):\n",
        "        return len(self.queue) == 0\n",
        "\n",
        "    def size(self):\n",
        "        return len(self.queue)\n",
        "\n",
        "# IMPLEMENTASI\n",
        "queue = TicketQueue()\n",
        "queue.enqueue(\"MU70\")\n",
        "queue.enqueue(\"HA71\")\n",
        "queue.enqueue(\"MA72\")\n",
        "queue.enqueue(\"DD73\")\n",
        "queue.enqueue(\"RI74\")\n",
        "queue.enqueue(\"DW75\")\n",
        "queue.enqueue(\"AN76\")\n",
        "queue.enqueue(\"SA77\")\n",
        "queue.enqueue(\"HH78\")\n",
        "queue.enqueue(\"MU79\")  #2 HURUF NAMA + 2 DIGIT NPM\n",
        "queue.enqueue(\"MU80\")\n",
        "queue.enqueue(\"MU81\")\n",
        "\n",
        "print(\"\")\n",
        "print(\"Pelanggan pertama dalam antrian:\", queue.front())\n",
        "print(\"Pelanggan terakhir dalam antrian:\", queue.rear())\n",
        "print(\"Total pelanggan dalam antrian:\", queue.size())\n",
        "\n",
        "print(\"\")\n",
        "queue.dequeue()\n",
        "queue.dequeue()\n",
        "\n",
        "print(\"\")\n",
        "print(\"Total pelanggan dalam antrian setelah pelayanan:\", queue.size())"
      ],
      "metadata": {
        "colab": {
          "base_uri": "https://localhost:8080/"
        },
        "id": "RUX5nzlHsk2m",
        "outputId": "e3f012e0-2d69-4062-cca2-0dc363cb4843"
      },
      "execution_count": null,
      "outputs": [
        {
          "output_type": "stream",
          "name": "stdout",
          "text": [
            "VIP Customer MU70 langsung mendapatkan kursi!\n",
            "VIP Customer HA71 langsung mendapatkan kursi!\n",
            "VIP Customer MA72 langsung mendapatkan kursi!\n",
            "VIP Customer DD73 langsung mendapatkan kursi!\n",
            "VIP Customer RI74 langsung mendapatkan kursi!\n",
            "VIP Customer DW75 langsung mendapatkan kursi!\n",
            "VIP Customer AN76 langsung mendapatkan kursi!\n",
            "VIP Customer SA77 langsung mendapatkan kursi!\n",
            "VIP Customer HH78 langsung mendapatkan kursi!\n",
            "VIP Customer MU79 langsung mendapatkan kursi!\n",
            "Antrian penuh! Harap tunggu sampai ada slot kosong.\n",
            "Antrian penuh! Harap tunggu sampai ada slot kosong.\n",
            "\n",
            "Pelanggan pertama dalam antrian: MU79\n",
            "Pelanggan terakhir dalam antrian: MU70\n",
            "Total pelanggan dalam antrian: 10\n",
            "\n",
            "Pelanggan MU79 telah dilayani.\n",
            "Pelanggan HH78 telah dilayani.\n",
            "\n",
            "Total pelanggan dalam antrian setelah pelayanan: 8\n"
          ]
        }
      ]
    },
    {
      "cell_type": "markdown",
      "source": [
        "SOAL LATIHAN 2 : Antrian Layanan Fotokopi Kampus"
      ],
      "metadata": {
        "id": "egzkxnUYKRXA"
      }
    },
    {
      "cell_type": "code",
      "source": [
        "class PhotocopyQueue:\n",
        "    def __init__(self):\n",
        "        self.queue = []\n",
        "\n",
        "    def enqueue(self, order_id, num_pages):\n",
        "        if num_pages < 10:\n",
        "            self.queue.insert(0, (order_id, num_pages))  # Fast Track (langsung di depan antrian)\n",
        "            print(f\"Pesanan {order_id} dengan {num_pages} halaman langsung diproses!\")\n",
        "        else:\n",
        "            self.queue.append((order_id, num_pages))\n",
        "            print(f\"Pesanan {order_id} dengan {num_pages} halaman ditambahkan ke antrian.\")\n",
        "\n",
        "    def dequeue(self):\n",
        "        if self.is_empty():\n",
        "            print(\"Antrian kosong! Tidak ada pesanan yang bisa diproses.\")\n",
        "            return None\n",
        "\n",
        "        order = self.queue.pop(0)\n",
        "        order_id, num_pages = order\n",
        "\n",
        "        if num_pages > 100:\n",
        "            remaining_pages = num_pages - 100\n",
        "            self.queue.append((order_id, remaining_pages))\n",
        "            print(f\"Pesanan {order_id} diproses 100 halaman, sisanya {remaining_pages} halaman masuk kembali ke antrian.\")\n",
        "        else:\n",
        "            print(f\"Pesanan {order_id} dengan {num_pages} halaman telah diproses.\")\n",
        "        return order\n",
        "\n",
        "    def front(self):\n",
        "        return \"Antrian kosong\" if self.is_empty() else self.queue[0]\n",
        "\n",
        "    def rear(self):\n",
        "        return \"Antrian kosong\" if self.is_empty() else self.queue[-1]\n",
        "\n",
        "    def is_empty(self):\n",
        "        return len(self.queue) == 0\n",
        "\n",
        "    def size(self):\n",
        "        return len(self.queue)\n",
        "\n",
        "# IMPLEMENTASI\n",
        "queue = PhotocopyQueue()\n",
        "queue.enqueue(\"MUH76\", 120)\n",
        "queue.enqueue(\"MUH77\", 8)\n",
        "queue.enqueue(\"MUH78\", 50)\n",
        "queue.enqueue(\"MUH79\", 200) #3 HURUF NAMA + 2 DIGIT NPM\n",
        "\n",
        "print(\"\")\n",
        "print(\"Pesanan pertama dalam antrian:\", queue.front())\n",
        "print(\"Pesanan terakhir dalam antrian:\", queue.rear())\n",
        "print(\"Total pesanan dalam antrian:\", queue.size())\n",
        "\n",
        "print(\"\")\n",
        "queue.dequeue()\n",
        "queue.dequeue()\n",
        "queue.dequeue()\n",
        "\n",
        "print(\"\")\n",
        "print(\"Total pesanan dalam antrian setelah pemrosesan:\", queue.size())"
      ],
      "metadata": {
        "colab": {
          "base_uri": "https://localhost:8080/"
        },
        "id": "MPuiNlOIg1fQ",
        "outputId": "fe75512f-c2e6-450b-8d64-0ffa1fa3c31f"
      },
      "execution_count": null,
      "outputs": [
        {
          "output_type": "stream",
          "name": "stdout",
          "text": [
            "Pesanan MUH76 dengan 120 halaman ditambahkan ke antrian.\n",
            "Pesanan MUH77 dengan 8 halaman langsung diproses!\n",
            "Pesanan MUH78 dengan 50 halaman ditambahkan ke antrian.\n",
            "Pesanan MUH79 dengan 200 halaman ditambahkan ke antrian.\n",
            "\n",
            "Pesanan pertama dalam antrian: ('MUH77', 8)\n",
            "Pesanan terakhir dalam antrian: ('MUH79', 200)\n",
            "Total pesanan dalam antrian: 4\n",
            "\n",
            "Pesanan MUH77 dengan 8 halaman telah diproses.\n",
            "Pesanan MUH76 diproses 100 halaman, sisanya 20 halaman masuk kembali ke antrian.\n",
            "Pesanan MUH78 dengan 50 halaman telah diproses.\n",
            "\n",
            "Total pesanan dalam antrian setelah pemrosesan: 2\n"
          ]
        }
      ]
    },
    {
      "cell_type": "markdown",
      "source": [
        "SOAL LATIHAN 3 : Antrian Layanan Parkir Mall"
      ],
      "metadata": {
        "id": "l4QDtnUGLGLA"
      }
    },
    {
      "cell_type": "code",
      "source": [
        "class ParkingQueue:\n",
        "    def __init__(self, capacity=15):\n",
        "        self.queue = []\n",
        "        self.capacity = capacity\n",
        "\n",
        "    def enqueue(self, vehicle_number, is_green_vehicle=False):\n",
        "        if len(self.queue) >= self.capacity:\n",
        "            print(\"Parkiran penuh! Harap tunggu hingga ada kendaraan keluar.\")\n",
        "            return\n",
        "        if is_green_vehicle:\n",
        "            self.queue.insert(0, (vehicle_number, is_green_vehicle))\n",
        "            print(f\"Kendaraan ramah lingkungan {vehicle_number} mendapatkan prioritas parkir!\")\n",
        "        else:\n",
        "            self.queue.append((vehicle_number, is_green_vehicle))\n",
        "            print(f\"Kendaraan {vehicle_number} ditambahkan ke dalam antrian parkir.\")\n",
        "\n",
        "    def dequeue(self):\n",
        "        if self.is_empty():\n",
        "            print(\"Parkiran kosong! Tidak ada kendaraan yang keluar.\")\n",
        "            return None\n",
        "\n",
        "        vehicle = self.queue.pop(0)\n",
        "        print(f\"Kendaraan {vehicle[0]} telah keluar dari parkiran.\")\n",
        "        return vehicle\n",
        "\n",
        "    def front(self):\n",
        "        return \"Parkiran kosong\" if self.is_empty() else self.queue[0]\n",
        "\n",
        "    def rear(self):\n",
        "        return \"Parkiran kosong\" if self.is_empty() else self.queue[-1]\n",
        "\n",
        "    def is_empty(self):\n",
        "        return len(self.queue) == 0\n",
        "\n",
        "    def size(self):\n",
        "        return len(self.queue)\n",
        "\n",
        "# IMPLEMENTASI\n",
        "queue = ParkingQueue()\n",
        "queue.enqueue(\"TA79\", False) #2 HURUF AWAL KOTA LAHIR + 2 DIGIT NPM\n",
        "queue.enqueue(\"SI80\", True)\n",
        "queue.enqueue(\"KK81\", False)\n",
        "queue.enqueue(\"MA82\", False)\n",
        "queue.enqueue(\"LA83\", True)\n",
        "queue.enqueue(\"YA84\", False)\n",
        "queue.enqueue(\"MA85\", False)\n",
        "queue.enqueue(\"GE86\", False)\n",
        "queue.enqueue(\"LA87\", True)\n",
        "queue.enqueue(\"NG88\", False)\n",
        "queue.enqueue(\"MA89\", False)\n",
        "queue.enqueue(\"MA90\", False)\n",
        "queue.enqueue(\"MA91\", True)\n",
        "queue.enqueue(\"MA92\", False)\n",
        "queue.enqueue(\"MA93\", False)\n",
        "queue.enqueue(\"MA94\", False)\n",
        "queue.enqueue(\"MA95\", True)\n",
        "\n",
        "print(\"\")\n",
        "print(\"Kendaraan pertama dalam antrian:\", queue.front())\n",
        "print(\"Kendaraan terakhir dalam antrian:\", queue.rear())\n",
        "print(\"Total kendaraan dalam parkiran:\", queue.size())\n",
        "\n",
        "print(\"\")\n",
        "queue.dequeue()\n",
        "queue.dequeue()\n",
        "queue.dequeue()\n",
        "\n",
        "print(\"\")\n",
        "print(\"Total kendaraan dalam parkiran setelah keluar:\", queue.size())"
      ],
      "metadata": {
        "colab": {
          "base_uri": "https://localhost:8080/"
        },
        "id": "93bgRngvlily",
        "outputId": "e2609a84-77e0-4681-f951-f49fbcb0bb33"
      },
      "execution_count": null,
      "outputs": [
        {
          "output_type": "stream",
          "name": "stdout",
          "text": [
            "Kendaraan TA79 ditambahkan ke dalam antrian parkir.\n",
            "Kendaraan ramah lingkungan SI80 mendapatkan prioritas parkir!\n",
            "Kendaraan KK81 ditambahkan ke dalam antrian parkir.\n",
            "Kendaraan MA82 ditambahkan ke dalam antrian parkir.\n",
            "Kendaraan ramah lingkungan LA83 mendapatkan prioritas parkir!\n",
            "Kendaraan YA84 ditambahkan ke dalam antrian parkir.\n",
            "Kendaraan MA85 ditambahkan ke dalam antrian parkir.\n",
            "Kendaraan GE86 ditambahkan ke dalam antrian parkir.\n",
            "Kendaraan ramah lingkungan LA87 mendapatkan prioritas parkir!\n",
            "Kendaraan NG88 ditambahkan ke dalam antrian parkir.\n",
            "Kendaraan MA89 ditambahkan ke dalam antrian parkir.\n",
            "Kendaraan MA90 ditambahkan ke dalam antrian parkir.\n",
            "Kendaraan ramah lingkungan MA91 mendapatkan prioritas parkir!\n",
            "Kendaraan MA92 ditambahkan ke dalam antrian parkir.\n",
            "Kendaraan MA93 ditambahkan ke dalam antrian parkir.\n",
            "Parkiran penuh! Harap tunggu hingga ada kendaraan keluar.\n",
            "Parkiran penuh! Harap tunggu hingga ada kendaraan keluar.\n",
            "\n",
            "Kendaraan pertama dalam antrian: ('MA91', True)\n",
            "Kendaraan terakhir dalam antrian: ('MA93', False)\n",
            "Total kendaraan dalam parkiran: 15\n",
            "\n",
            "Kendaraan MA91 telah keluar dari parkiran.\n",
            "Kendaraan LA87 telah keluar dari parkiran.\n",
            "Kendaraan LA83 telah keluar dari parkiran.\n",
            "\n",
            "Total kendaraan dalam parkiran setelah keluar: 12\n"
          ]
        }
      ]
    },
    {
      "cell_type": "markdown",
      "source": [
        "SOAL LATIHAN 4 : Antrian Pengambilan Sertifikat di Kampus"
      ],
      "metadata": {
        "id": "tIsbmbrnMSCh"
      }
    },
    {
      "cell_type": "code",
      "source": [
        "class CertificateQueue:\n",
        "    def __init__(self):\n",
        "        self.regular_queue = []\n",
        "        self.achiever_queue = []\n",
        "        self.national_queue = []\n",
        "\n",
        "    def enqueue(self, student_id, is_achiever=False, is_national=False):\n",
        "        if is_national:\n",
        "            self.national_queue.append(student_id)\n",
        "            print(f\"Mahasiswa {student_id} (berprestasi di kompetisi nasional) langsung mengambil sertifikat.\")\n",
        "        elif is_achiever:\n",
        "            self.achiever_queue.append(student_id)\n",
        "            print(f\"Mahasiswa {student_id} (berprestasi) ditambahkan ke antrian berprestasi.\")\n",
        "        else:\n",
        "            self.regular_queue.append(student_id)\n",
        "            print(f\"Mahasiswa {student_id} ditambahkan ke antrian reguler.\")\n",
        "\n",
        "        if self.size() > 20:\n",
        "            print(\"Antrian telah dibagi menjadi jalur reguler dan jalur mahasiswa berprestasi.\")\n",
        "\n",
        "    def dequeue(self):\n",
        "        if not self.is_empty():\n",
        "            if self.national_queue:\n",
        "                student = self.national_queue.pop(0)\n",
        "                print(f\"Mahasiswa {student} (kompetisi nasional) telah mengambil sertifikat tanpa antre.\")\n",
        "                return student\n",
        "            elif self.achiever_queue:\n",
        "                student = self.achiever_queue.pop(0)\n",
        "                print(f\"Mahasiswa {student} (berprestasi) telah mengambil sertifikat.\")\n",
        "                return student\n",
        "            else:\n",
        "                student = self.regular_queue.pop(0)\n",
        "                print(f\"Mahasiswa {student} telah mengambil sertifikat.\")\n",
        "                return student\n",
        "        print(\"Antrian kosong!\")\n",
        "        return None\n",
        "\n",
        "    def front(self):\n",
        "        if not self.is_empty():\n",
        "            if self.national_queue:\n",
        "                return self.national_queue[0]\n",
        "            elif self.achiever_queue:\n",
        "                return self.achiever_queue[0]\n",
        "            else:\n",
        "                return self.regular_queue[0]\n",
        "        return \"Antrian kosong\"\n",
        "\n",
        "    def rear(self):\n",
        "        if not self.is_empty():\n",
        "            if self.regular_queue:\n",
        "                return self.regular_queue[-1]\n",
        "            elif self.achiever_queue:\n",
        "                return self.achiever_queue[-1]\n",
        "            else:\n",
        "                return self.national_queue[-1]\n",
        "        return \"Antrian kosong\"\n",
        "\n",
        "    def is_empty(self):\n",
        "        return len(self.regular_queue) == 0 and len(self.achiever_queue) == 0 and len(self.national_queue) == 0\n",
        "\n",
        "    def size(self):\n",
        "        return len(self.regular_queue) + len(self.achiever_queue) + len(self.national_queue)\n",
        "\n",
        "# Contoh Penggunaan\n",
        "queue = CertificateQueue()\n",
        "data = [\n",
        "    (\"TE78\", False, False),\n",
        "    (\"TE79\", False, True), #2 HURUF AWAL PRODI + 2 DIGIT NPM\n",
        "    (\"TE80\", False, False),\n",
        "    (\"TE81\", False, False),\n",
        "    (\"TE82\", False, False),\n",
        "    (\"TE83\", False, False),\n",
        "    (\"TE84\", False, False),\n",
        "    (\"TE85\", False, False),\n",
        "    (\"TE86\", False, False),\n",
        "    (\"TE87\", False, False),\n",
        "    (\"TE88\", False, False),\n",
        "    (\"TE89\", False, False),\n",
        "    (\"TE90\", False, True),\n",
        "    (\"TE91\", True, False),\n",
        "    (\"TE92\", True, False),\n",
        "    (\"TE93\", True, False),\n",
        "    (\"TE94\", True, False),\n",
        "    (\"TE95\", True, False),\n",
        "    (\"TE96\", True, False),\n",
        "    (\"TE97\", True, False),\n",
        "    (\"TE98\", False, False),\n",
        "\n",
        "]\n",
        "\n",
        "for student in data:\n",
        "    queue.enqueue(*student)\n",
        "\n",
        "print(\"\\nMahasiswa pertama dalam antrian:\", queue.front())\n",
        "print(\"Mahasiswa terakhir dalam antrian:\", queue.rear())\n",
        "print(\"Total mahasiswa dalam antrian:\", queue.size())\n",
        "\n",
        "print(\"\\n\")\n",
        "queue.dequeue()\n",
        "queue.dequeue()\n",
        "queue.dequeue()\n",
        "queue.dequeue()\n",
        "\n",
        "print(\"\\nTotal mahasiswa dalam antrian setelah pengambilan sertifikat:\", queue.size())"
      ],
      "metadata": {
        "colab": {
          "base_uri": "https://localhost:8080/"
        },
        "id": "VQcfRldYqEmp",
        "outputId": "79ef1962-f751-41bf-b7f6-216dd0fe7d36"
      },
      "execution_count": null,
      "outputs": [
        {
          "output_type": "stream",
          "name": "stdout",
          "text": [
            "Mahasiswa TE78 ditambahkan ke antrian reguler.\n",
            "Mahasiswa TE79 (berprestasi di kompetisi nasional) langsung mengambil sertifikat.\n",
            "Mahasiswa TE80 ditambahkan ke antrian reguler.\n",
            "Mahasiswa TE81 ditambahkan ke antrian reguler.\n",
            "Mahasiswa TE82 ditambahkan ke antrian reguler.\n",
            "Mahasiswa TE83 ditambahkan ke antrian reguler.\n",
            "Mahasiswa TE84 ditambahkan ke antrian reguler.\n",
            "Mahasiswa TE85 ditambahkan ke antrian reguler.\n",
            "Mahasiswa TE86 ditambahkan ke antrian reguler.\n",
            "Mahasiswa TE87 ditambahkan ke antrian reguler.\n",
            "Mahasiswa TE88 ditambahkan ke antrian reguler.\n",
            "Mahasiswa TE89 ditambahkan ke antrian reguler.\n",
            "Mahasiswa TE90 (berprestasi di kompetisi nasional) langsung mengambil sertifikat.\n",
            "Mahasiswa TE91 (berprestasi) ditambahkan ke antrian berprestasi.\n",
            "Mahasiswa TE92 (berprestasi) ditambahkan ke antrian berprestasi.\n",
            "Mahasiswa TE93 (berprestasi) ditambahkan ke antrian berprestasi.\n",
            "Mahasiswa TE94 (berprestasi) ditambahkan ke antrian berprestasi.\n",
            "Mahasiswa TE95 (berprestasi) ditambahkan ke antrian berprestasi.\n",
            "Mahasiswa TE96 (berprestasi) ditambahkan ke antrian berprestasi.\n",
            "Mahasiswa TE97 (berprestasi) ditambahkan ke antrian berprestasi.\n",
            "Mahasiswa TE98 ditambahkan ke antrian reguler.\n",
            "Antrian telah dibagi menjadi jalur reguler dan jalur mahasiswa berprestasi.\n",
            "\n",
            "Mahasiswa pertama dalam antrian: TE79\n",
            "Mahasiswa terakhir dalam antrian: TE98\n",
            "Total mahasiswa dalam antrian: 21\n",
            "\n",
            "\n",
            "Mahasiswa TE79 (kompetisi nasional) telah mengambil sertifikat tanpa antre.\n",
            "Mahasiswa TE90 (kompetisi nasional) telah mengambil sertifikat tanpa antre.\n",
            "Mahasiswa TE91 (berprestasi) telah mengambil sertifikat.\n",
            "Mahasiswa TE92 (berprestasi) telah mengambil sertifikat.\n",
            "\n",
            "Total mahasiswa dalam antrian setelah pengambilan sertifikat: 17\n"
          ]
        }
      ]
    }
  ]
}